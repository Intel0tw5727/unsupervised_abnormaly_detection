{
 "cells": [
  {
   "cell_type": "markdown",
   "metadata": {},
   "source": [
    "##  実験目標\n",
    "- 一局を通して現れる異常な行動を画像ベースで取得する\n",
    "\n",
    "## 実験手順\n",
    "- 棋譜から評価値を読み込む -> ok\n",
    "- 「指し手から次の指し手」までの間隔を画像ベースで把握する -> ok\n",
    "- 初手から10手をニュートラルの姿勢とし、異常検知をして画像を収集する -> ok\n",
    "    - 初手から10手の画像とpose抽出画像をそれぞれaddWeightedで重ねる -> ok\n",
    "    - 2種類の画像を基準に異常な行動画像を抽出\n",
    "        - 10手で作成した合成画像から外れ値となるしきい値を生成"
   ]
  },
  {
   "cell_type": "markdown",
   "metadata": {},
   "source": [
    "## モジュールの読み込み\n"
   ]
  },
  {
   "cell_type": "code",
   "execution_count": 1,
   "metadata": {},
   "outputs": [],
   "source": [
    "import cv2\n",
    "import numpy as np\n",
    "import matplotlib.pyplot as plt\n",
    "%matplotlib inline\n",
    "plt.rcParams['font.family'] = 'IPAPGothic'\n",
    "import pandas as pd\n",
    "from tqdm import tqdm_notebook as tqdm\n",
    "import imagehash\n",
    "from PIL import Image\n",
    "\n",
    "import os\n",
    "import sys\n",
    "\n",
    "# 特徴量抽出\n",
    "from DeNAPose.pose_detector import PoseDetector, draw_person_pose"
   ]
  },
  {
   "cell_type": "code",
   "execution_count": 2,
   "metadata": {},
   "outputs": [],
   "source": [
    "# データフレームの作成と出力\n",
    "# 棋譜データの読み込みとデータフレーム作成\n",
    "# kifデータを合わせる\n",
    "with open(\"../data/kif/AbemaTV_Tournament_Final1_analized.kif\", encoding=\"utf-8\") as f:\n",
    "    kif = f.readlines()\n",
    "shogi_df = pd.DataFrame([int(k.split(\" \")[1]) for k in kif if \"*##\" in k], columns=[\"score\"])\n",
    "shogi_df['score_label'] = shogi_df[\"score\"].map(lambda x: x//300)\n",
    "shogi_df[\"hand_number\"] = shogi_df.index"
   ]
  },
  {
   "cell_type": "code",
   "execution_count": null,
   "metadata": {
    "scrolled": true
   },
   "outputs": [
    {
     "name": "stdout",
     "output_type": "stream",
     "text": [
      "Loading the model...\n"
     ]
    },
    {
     "data": {
      "application/vnd.jupyter.widget-view+json": {
       "model_id": "fbeb65dd1c874516ab2f88d589ff4ed9",
       "version_major": 2,
       "version_minor": 0
      },
      "text/plain": [
       "HBox(children=(IntProgress(value=0, max=5161), HTML(value='')))"
      ]
     },
     "metadata": {},
     "output_type": "display_data"
    },
    {
     "name": "stdout",
     "output_type": "stream",
     "text": [
      "先手の指し手までの時間: 2s\n",
      "後手の指し手までの時間: 2s\n",
      "先手の指し手までの時間: 3s\n",
      "後手の指し手までの時間: 1s\n",
      "先手の指し手までの時間: 2s\n",
      "後手の指し手までの時間: 2s\n",
      "先手の指し手までの時間: 4s\n",
      "後手の指し手までの時間: 1s\n",
      "先手の指し手までの時間: 2s\n",
      "後手の指し手までの時間: 3s\n"
     ]
    },
    {
     "data": {
      "application/vnd.jupyter.widget-view+json": {
       "model_id": "294f38498ede4c168c7754bac6f59a4e",
       "version_major": 2,
       "version_minor": 0
      },
      "text/plain": [
       "HBox(children=(IntProgress(value=0, max=134), HTML(value='')))"
      ]
     },
     "metadata": {},
     "output_type": "display_data"
    },
    {
     "name": "stderr",
     "output_type": "stream",
     "text": [
      "/home/nvidia/Desktop/Research/utils/DeNAPose/pose_detector.py:147: FutureWarning: Using a non-tuple sequence for multidimensional indexing is deprecated; use `arr[tuple(seq)]` instead of `arr[seq]`. In the future this will be interpreted as an array index, `arr[np.array(seq)]`, which will result either in an error or a different result.\n",
      "  paf_in_edge = np.hstack([paf[0][np.hsplit(integ_points, 2)], paf[1][np.hsplit(integ_points, 2)]])\n"
     ]
    },
    {
     "data": {
      "application/vnd.jupyter.widget-view+json": {
       "model_id": "2dd57c327c454a98bed966e5f4233824",
       "version_major": 2,
       "version_minor": 0
      },
      "text/plain": [
       "HBox(children=(IntProgress(value=1, bar_style='info', max=1), HTML(value='')))"
      ]
     },
     "metadata": {},
     "output_type": "display_data"
    },
    {
     "name": "stdout",
     "output_type": "stream",
     "text": [
      "phash thresh: 11.470149253731343\n",
      "先手の指し手までの時間: 3s\n",
      "後手の指し手までの時間: 1s\n",
      "先手の指し手までの時間: 2s\n",
      "後手の指し手までの時間: 1s\n",
      "先手の指し手までの時間: 3s\n",
      "後手の指し手までの時間: 1s\n",
      "先手の指し手までの時間: 2s\n",
      "後手の指し手までの時間: 1s\n",
      "先手の指し手までの時間: 9s\n",
      "後手の指し手までの時間: 1s\n",
      "先手の指し手までの時間: 2s\n",
      "後手の指し手までの時間: 2s\n",
      "先手の指し手までの時間: 7s\n",
      "後手の指し手までの時間: 2s\n",
      "先手の指し手までの時間: 2s\n",
      "後手の指し手までの時間: 2s\n",
      "先手の指し手までの時間: 7s\n",
      "後手の指し手までの時間: 2s\n",
      "先手の指し手までの時間: 10s\n",
      "後手の指し手までの時間: 1s\n",
      "先手の指し手までの時間: 4s\n",
      "後手の指し手までの時間: 2s\n",
      "先手の指し手までの時間: 2s\n",
      "後手の指し手までの時間: 2s\n",
      "先手の指し手までの時間: 3s\n",
      "後手の指し手までの時間: 3s\n",
      "先手の指し手までの時間: 2s\n",
      "後手の指し手までの時間: 3s\n",
      "先手の指し手までの時間: 2s\n",
      "後手の指し手までの時間: 10s\n",
      "先手の指し手までの時間: 4s\n",
      "後手の指し手までの時間: 49s\n",
      "先手の指し手までの時間: 12s\n",
      "後手の指し手までの時間: 32s\n",
      "先手の指し手までの時間: 2s\n",
      "後手の指し手までの時間: 27s\n",
      "先手の指し手までの時間: 40s\n",
      "後手の指し手までの時間: 15s\n",
      "先手の指し手までの時間: 5s\n"
     ]
    }
   ],
   "source": [
    "mean_flag = True\n",
    "flag_prev, flag_next = True, True\n",
    "isFujii = True # Falseなら後手\n",
    "time_idx, hand_idx = 0, 0\n",
    "threshold = 10\n",
    "pose_thresh = 5\n",
    "\n",
    "sampling_frame_rate = 12\n",
    "\n",
    "pose_frames, hand_labels, times = [], [], []\n",
    "orig_hash_list, skel_hash_list = [], []\n",
    "\n",
    "cap = cv2.VideoCapture(\"/media/nvidia/JetsonTX2SSD240/data/AbemaTV_Tournament_Final1.mp4\")\n",
    "pose_detector = PoseDetector(\"posenet\", \"../utils/DeNAPose/models/coco_posenet.npz\", device=0)\n",
    "        \n",
    "for i in tqdm(range(int(cap.get(cv2.CAP_PROP_FRAME_COUNT))//sampling_frame_rate)):\n",
    "    cap.set(cv2.CAP_PROP_POS_FRAMES, sampling_frame_rate*i)\n",
    "\n",
    "    frame = cv2.cvtColor(cap.read()[1], cv2.COLOR_BGR2RGB)\n",
    "    pose_rect = frame[220:510, 1340:1860].copy()\n",
    "    \n",
    "    # キャリブレーション用にメモリに確保\n",
    "    if mean_flag:\n",
    "        pose_frames.append(pose_rect)\n",
    "        \n",
    "    hand_labels.append(hand_idx)\n",
    "\n",
    "    black_flag_rect = frame[475:630, 35:45].copy()\n",
    "    white_flag_rect = frame[555:710, 1345:1355].copy()\n",
    "\n",
    "    # 先手と後手が入れ替わったら(先後判別)\n",
    "    if (flag_prev ^ flag_next) or i==0:\n",
    "        b_mean_prev = np.mean(black_flag_rect, axis=(0, 1))\n",
    "        w_mean_prev = np.mean(white_flag_rect, axis=(0, 1)) \n",
    "        flag_prev = flag_next\n",
    "        #continue\n",
    "\n",
    "    # 先手もしくは後手が指し手を考慮中の場合\n",
    "    else:\n",
    "        b_mean_next = np.mean(black_flag_rect, axis=(0, 1))\n",
    "        w_mean_next = np.mean(white_flag_rect, axis=(0, 1))\n",
    "\n",
    "        if flag_prev:\n",
    "            state = np.mean(b_mean_next - b_mean_prev)\n",
    "            b_mean_prev = b_mean_next\n",
    "        else:\n",
    "            state = np.mean(w_mean_next - w_mean_prev)\n",
    "            w_mean_prev = w_mean_next \n",
    "\n",
    "        if abs(state) > threshold:\n",
    "            flag_next = not flag_next\n",
    "            print(\"{}の指し手までの時間: {}s\".format([\"先手\", \"後手\"][~flag_prev], (i - time_idx) * sampling_frame_rate//60))\n",
    "            times.append((i - time_idx) * 0.1)\n",
    "            time_idx = i\n",
    "            hand_idx += 1\n",
    "\n",
    "    # 10手指したらこれまでの画像の平均的な画像をオリジナルとスケルトンの2つで作成\n",
    "    # 0.1秒ごとの画像が取れているのでそこから10分の1枚をサンプリングして使用\n",
    "    if (hand_idx == threshold) and mean_flag:\n",
    "        skel_imgs = []\n",
    "        \n",
    "        for idx, img in enumerate(tqdm(pose_frames)):\n",
    "            if idx==0:\n",
    "                img_prev_orig = img\n",
    "\n",
    "                pose_keypoints, scores = pose_detector(img)\n",
    "                img_prev_skel = draw_person_pose(np.full_like(img, 255), pose_keypoints[np.where(scores > pose_thresh)])\n",
    "                skel_imgs.append(img_prev_skel)\n",
    "                continue\n",
    "            else:\n",
    "                img_next_orig = img\n",
    "\n",
    "                pose_keypoints, scores = pose_detector(img)\n",
    "                img_next_skel = draw_person_pose(np.full_like(img, 255), pose_keypoints[np.where(scores > pose_thresh)])\n",
    "                \n",
    "                skel_imgs.append(img_next_skel)\n",
    "                \n",
    "                if idx==1:\n",
    "                    img_orig_mean = cv2.addWeighted(img_prev_orig, 1 - (1/(idx+1)), img_next_orig, 1/(idx+1), 0)\n",
    "                    img_skel_mean = cv2.addWeighted(img_prev_skel, 1 - (1/(idx+1)), img_next_skel, 1/(idx+1), 0)\n",
    "                else:\n",
    "                    img_orig_mean = cv2.addWeighted(img_orig_mean, 1 - (1/(idx+1)), img_next_orig, 1/(idx+1), 0)\n",
    "                    img_skel_mean = cv2.addWeighted(img_skel_mean, 1 - (1/(idx+1)), img_next_skel, 1/(idx+1), 0)\n",
    "\n",
    "        cv2.imwrite(\"../output/img_orig_mean.png\", cv2.cvtColor(img_orig_mean, cv2.COLOR_RGB2BGR))\n",
    "        cv2.imwrite(\"../output/img_skel_mean.png\", cv2.cvtColor(img_skel_mean, cv2.COLOR_RGB2BGR))\n",
    "        \n",
    "        # キャリブレーション\n",
    "        neutral_orig_hash = imagehash.phash(Image.fromarray(np.uint8(img_orig_mean)))\n",
    "        neutral_skel_hash = imagehash.phash(Image.fromarray(np.uint8(img_skel_mean)))\n",
    "        \n",
    "        for pose_img, skel_img in tqdm(zip(pose_frames, skel_imgs)):\n",
    "            now_orig_hash = imagehash.phash(Image.fromarray(np.uint8(pose_img)))\n",
    "            now_skel_hash = imagehash.phash(Image.fromarray(np.uint8(skel_img)))\n",
    "\n",
    "            orig_hash_list.append(neutral_orig_hash - now_orig_hash)\n",
    "            skel_hash_list.append(neutral_skel_hash - now_skel_hash)\n",
    "        \n",
    "        # スケルトン画像を使ったphashの差分の平均値を基準にする\n",
    "        abnorm_thresh = np.array(skel_hash_list).mean()\n",
    "        print(\"phash thresh: {}\".format(abnorm_thresh))\n",
    "        \n",
    "        mean_flag = False\n",
    "        mean_idx = i\n",
    "        del pose_frames\n",
    "            \n",
    "\n",
    "    # 11手目からperceptual hashで差分を比較\n",
    "    # 10手目までのキャリブレーションとしてヒストグラムを出してみる\n",
    "    elif (hand_idx >= threshold) :\n",
    "        #neutral_orig_hash = imagehash.phash(Image.fromarray(np.uint8(img_orig_mean)))\n",
    "        now_orig_hash = imagehash.phash(Image.fromarray(np.uint8(black_flag_rect if isFujii else white_flag_rect)))\n",
    "\n",
    "        #neutral_skel_hash = imagehash.phash(Image.fromarray(np.uint8(img_skel_mean)))\n",
    "        pose_keypoints, scores = pose_detector(pose_rect)\n",
    "        img_skel = draw_person_pose(np.full_like(pose_rect, 255), pose_keypoints[np.where(scores > 5)])\n",
    "        now_skel_hash = imagehash.phash(Image.fromarray(np.uint8(img_skel)))\n",
    "        \n",
    "        orig_diff_hash = neutral_orig_hash - now_orig_hash\n",
    "        skel_diff_hash = neutral_skel_hash - now_skel_hash\n",
    "        \n",
    "        # 基準値を超えていれば異常行動とみなす\n",
    "        if skel_diff_hash > abnorm_thresh:\n",
    "            sup_or_inf = shogi_df.loc[hand_idx][\"score_label\"]\n",
    "            \n",
    "            if sup_or_inf == 0: # 評価値 -300 < x < 300\n",
    "                cv2.imwrite(\"/media/nvidia/JetsonTX2SSD240/data/sup_or_inf/plus_minus_0/original/pose_orig_handnum{}_frame{}.png\".format(hand_idx, i),\n",
    "                            cv2.cvtColor(pose_rect, cv2.COLOR_RGB2BGR))\n",
    "                cv2.imwrite(\"/media/nvidia/JetsonTX2SSD240/data/sup_or_inf/plus_minus_0/skelton/pose_skel_handnum{}_frame{}.png\".format(hand_idx, i), \n",
    "                            cv2.cvtColor(img_skel, cv2.COLOR_RGB2BGR))\n",
    "            elif 0 < sup_or_inf < 6: # 評価値 300 < x < 1500\n",
    "                cv2.imwrite(\"/media/nvidia/JetsonTX2SSD240/data/sup_or_inf/plus_{}/original/pose_handnum{}_frame{}.png\".format(sup_or_inf,hand_idx, i), \n",
    "                            cv2.cvtColor(pose_rect, cv2.COLOR_RGB2BGR))\n",
    "                cv2.imwrite(\"/media/nvidia/JetsonTX2SSD240/data/sup_or_inf/plus_{}/skelton/pose_handnum{}_frame{}.png\".format(sup_or_inf,hand_idx, i), \n",
    "                            cv2.cvtColor(img_skel, cv2.COLOR_RGB2BGR))\n",
    "            elif -6 < sup_or_inf < 6: # 評価値 -1500 < x < -300\n",
    "                cv2.imwrite(\"/media/nvidia/JetsonTX2SSD240/data/sup_or_inf/minus_{}/original/pose_handnum{}_frame{}.png\".format(abs(sup_or_inf),hand_idx, i), \n",
    "                            cv2.cvtColor(pose_rect, cv2.COLOR_RGB2BGR))\n",
    "                cv2.imwrite(\"/media/nvidia/JetsonTX2SSD240/data/sup_or_inf/minus_{}/skelton/pose_handnum{}_frame{}.png\".format(abs(sup_or_inf),hand_idx, i), \n",
    "                            cv2.cvtColor(img_skel, cv2.COLOR_RGB2BGR))\n",
    "            elif 6 <= sup_or_inf: # 評価値 1500 <= x\n",
    "                cv2.imwrite(\"/media/nvidia/JetsonTX2SSD240/data/sup_or_inf/plus_inf/original/pose_handnum{}_frame{}.png\".format(hand_idx, i), \n",
    "                            cv2.cvtColor(pose_rect, cv2.COLOR_RGB2BGR))\n",
    "                cv2.imwrite(\"/media/nvidia/JetsonTX2SSD240/data/sup_or_inf/plus_inf/skelton/pose_handnum{}_frame{}.png\".format(hand_idx, i), \n",
    "                            cv2.cvtColor(img_skel, cv2.COLOR_RGB2BGR))\n",
    "            elif sup_or_inf <= -6: # 評価値 x <= -1500\n",
    "                cv2.imwrite(\"/media/nvidia/JetsonTX2SSD240/data/sup_or_inf/minus_inf/original/pose_handnum{}_frame{}.png\".format(hand_idx, i), \n",
    "                            cv2.cvtColor(pose_rect, cv2.COLOR_RGB2BGR))\n",
    "                cv2.imwrite(\"/media/nvidia/JetsonTX2SSD240/data/sup_or_inf/minus_inf/skelton/pose_handnum{}_frame{}.png\".format(hand_idx, i), \n",
    "                            cv2.cvtColor(img_skel, cv2.COLOR_RGB2BGR))\n",
    "                \n",
    "        orig_hash_list.append(orig_diff_hash)\n",
    "        skel_hash_list.append(skel_diff_hash)\n",
    "        \n",
    "\n",
    "# phashデータのデータフレーム作成\n",
    "extract_df = pd.DataFrame(orig_hash_list, columns=[\"original_hash\"])\n",
    "extract_df[\"skelton_hash\"] = skel_hash_list\n",
    "extract_df[\"hand_number\"] = hand_labels\n",
    "\n",
    "# 結合\n",
    "df = pd.merge(extract_df, shogi_df, on=\"hand_number\")\n",
    "df.to_csv(\"../data/AbemaTV_Tournament_Final1_pose_data_frame{}.csv\".format(sampling_frame_rate), index=False)"
   ]
  },
  {
   "cell_type": "markdown",
   "metadata": {},
   "source": [
    "## 統計的に異常を検知するための指標を決定する"
   ]
  },
  {
   "cell_type": "code",
   "execution_count": 23,
   "metadata": {},
   "outputs": [
    {
     "data": {
      "text/plain": [
       "1032.0"
      ]
     },
     "execution_count": 23,
     "metadata": {},
     "output_type": "execute_result"
    }
   ],
   "source": [
    "cap.get(cv2.CAP_PROP_FRAME_COUNT)//sampling_frame_rate"
   ]
  },
  {
   "cell_type": "code",
   "execution_count": 24,
   "metadata": {
    "scrolled": true
   },
   "outputs": [
    {
     "data": {
      "text/plain": [
       "1032"
      ]
     },
     "execution_count": 24,
     "metadata": {},
     "output_type": "execute_result"
    }
   ],
   "source": [
    "len(orig_hash_list)"
   ]
  },
  {
   "cell_type": "code",
   "execution_count": 25,
   "metadata": {},
   "outputs": [
    {
     "data": {
      "text/plain": [
       "1032"
      ]
     },
     "execution_count": 25,
     "metadata": {},
     "output_type": "execute_result"
    }
   ],
   "source": [
    "len(pose_frames)"
   ]
  },
  {
   "cell_type": "code",
   "execution_count": 6,
   "metadata": {},
   "outputs": [
    {
     "data": {
      "text/plain": [
       "28"
      ]
     },
     "execution_count": 6,
     "metadata": {},
     "output_type": "execute_result"
    }
   ],
   "source": [
    "len(skel_imgs)"
   ]
  },
  {
   "cell_type": "code",
   "execution_count": 7,
   "metadata": {},
   "outputs": [
    {
     "data": {
      "text/plain": [
       "1032"
      ]
     },
     "execution_count": 7,
     "metadata": {},
     "output_type": "execute_result"
    }
   ],
   "source": [
    "len(hand_labels)"
   ]
  },
  {
   "cell_type": "code",
   "execution_count": 9,
   "metadata": {},
   "outputs": [],
   "source": [
    "extract_df = pd.DataFrame(orig_hash_list, columns=[\"original_hash\"])"
   ]
  },
  {
   "cell_type": "code",
   "execution_count": 10,
   "metadata": {},
   "outputs": [],
   "source": [
    "extract_df[\"skelton_hash\"] = skel_hash_list"
   ]
  },
  {
   "cell_type": "code",
   "execution_count": 12,
   "metadata": {},
   "outputs": [],
   "source": [
    "extract_df[\"hand_number\"] = hand_labels"
   ]
  },
  {
   "cell_type": "code",
   "execution_count": 13,
   "metadata": {},
   "outputs": [
    {
     "data": {
      "text/plain": [
       "Text(0.5,1,'difference perceptual hash using image original')"
      ]
     },
     "execution_count": 13,
     "metadata": {},
     "output_type": "execute_result"
    },
    {
     "data": {
      "image/png": "[encoded data removed]",
      "text/plain": [
       "<Figure size 432x288 with 1 Axes>"
      ]
     },
     "metadata": {
      "needs_background": "light"
     },
     "output_type": "display_data"
    }
   ],
   "source": [
    "ax = extract_df.original_hash.hist()\n",
    "ax.set_xlabel(\"difference phash\")\n",
    "ax.set_ylabel(\"frequency\")\n",
    "ax.set_title(\"difference perceptual hash using image original\")"
   ]
  },
  {
   "cell_type": "code",
   "execution_count": 44,
   "metadata": {},
   "outputs": [
    {
     "data": {
      "text/plain": [
       "27"
      ]
     },
     "execution_count": 44,
     "metadata": {},
     "output_type": "execute_result"
    }
   ],
   "source": [
    "mean_idx"
   ]
  },
  {
   "cell_type": "code",
   "execution_count": 42,
   "metadata": {},
   "outputs": [
    {
     "name": "stderr",
     "output_type": "stream",
     "text": [
      "/home/nvidia/.pyenv/versions/3.5.2/lib/python3.5/site-packages/matplotlib/font_manager.py:1331: UserWarning: findfont: Font family ['IPAPGothic'] not found. Falling back to DejaVu Sans\n",
      "  (prop.get_family(), self.defaultFamily[fontext]))\n"
     ]
    },
    {
     "data": {
      "text/plain": [
       "<Figure size 2160x1296 with 0 Axes>"
      ]
     },
     "metadata": {},
     "output_type": "display_data"
    },
    {
     "data": {
      "image/png": "[encoded data removed]",
      "text/plain": [
       "<Figure size 432x288 with 1 Axes>"
      ]
     },
     "metadata": {
      "needs_background": "light"
     },
     "output_type": "display_data"
    }
   ],
   "source": [
    "plt.figure(figsize=(30,18))\n",
    "extract_df[:200].plot()\n",
    "plt.title(\"difference phash and hand number\")\n",
    "plt.legend(loc='lower right')#, bbox_to_anchor=(1.0, 0.5))\n",
    "plt.savefig(\"difference_phash_and_hand_number.pdf\")"
   ]
  },
  {
   "cell_type": "code",
   "execution_count": 53,
   "metadata": {},
   "outputs": [],
   "source": [
    "# kifデータを合わせる\n",
    "with open(\"../data/kif/AbemaTV_Tournament_Final1_analized.kif\", encoding=\"utf-8\") as f:\n",
    "    kif = f.readlines()\n",
    "shogi_df = pd.DataFrame([int(k.split(\" \")[1]) for k in kif if \"*##\" in k], columns=[\"score\"])\n",
    "shogi_df['score_label'] = shogi_df[\"score\"].map(lambda x: x//300)\n",
    "shogi_df[\"hand_number\"] = shogi_df.index"
   ]
  },
  {
   "cell_type": "code",
   "execution_count": 54,
   "metadata": {},
   "outputs": [
    {
     "data": {
      "text/html": [
       "<div>\n",
       "<style scoped>\n",
       "    .dataframe tbody tr th:only-of-type {\n",
       "        vertical-align: middle;\n",
       "    }\n",
       "\n",
       "    .dataframe tbody tr th {\n",
       "        vertical-align: top;\n",
       "    }\n",
       "\n",
       "    .dataframe thead th {\n",
       "        text-align: right;\n",
       "    }\n",
       "</style>\n",
       "<table border=\"1\" class=\"dataframe\">\n",
       "  <thead>\n",
       "    <tr style=\"text-align: right;\">\n",
       "      <th></th>\n",
       "      <th>original_hash</th>\n",
       "      <th>skelton_hash</th>\n",
       "      <th>hand_number</th>\n",
       "    </tr>\n",
       "  </thead>\n",
       "  <tbody>\n",
       "    <tr>\n",
       "      <th>0</th>\n",
       "      <td>8</td>\n",
       "      <td>12</td>\n",
       "      <td>0</td>\n",
       "    </tr>\n",
       "    <tr>\n",
       "      <th>1</th>\n",
       "      <td>6</td>\n",
       "      <td>8</td>\n",
       "      <td>0</td>\n",
       "    </tr>\n",
       "    <tr>\n",
       "      <th>2</th>\n",
       "      <td>8</td>\n",
       "      <td>6</td>\n",
       "      <td>0</td>\n",
       "    </tr>\n",
       "    <tr>\n",
       "      <th>3</th>\n",
       "      <td>8</td>\n",
       "      <td>14</td>\n",
       "      <td>0</td>\n",
       "    </tr>\n",
       "    <tr>\n",
       "      <th>4</th>\n",
       "      <td>6</td>\n",
       "      <td>12</td>\n",
       "      <td>1</td>\n",
       "    </tr>\n",
       "  </tbody>\n",
       "</table>\n",
       "</div>"
      ],
      "text/plain": [
       "   original_hash  skelton_hash  hand_number\n",
       "0              8            12            0\n",
       "1              6             8            0\n",
       "2              8             6            0\n",
       "3              8            14            0\n",
       "4              6            12            1"
      ]
     },
     "execution_count": 54,
     "metadata": {},
     "output_type": "execute_result"
    }
   ],
   "source": [
    "extract_df.head()"
   ]
  },
  {
   "cell_type": "code",
   "execution_count": 55,
   "metadata": {},
   "outputs": [
    {
     "data": {
      "text/plain": [
       "<matplotlib.axes._subplots.AxesSubplot at 0x7ee416be10>"
      ]
     },
     "execution_count": 55,
     "metadata": {},
     "output_type": "execute_result"
    },
    {
     "name": "stderr",
     "output_type": "stream",
     "text": [
      "/home/nvidia/.pyenv/versions/3.5.2/lib/python3.5/site-packages/matplotlib/font_manager.py:1331: UserWarning: findfont: Font family ['IPAPGothic'] not found. Falling back to DejaVu Sans\n",
      "  (prop.get_family(), self.defaultFamily[fontext]))\n"
     ]
    },
    {
     "data": {
      "image/png": "[encoded data removed]",
      "text/plain": [
       "<Figure size 432x288 with 1 Axes>"
      ]
     },
     "metadata": {
      "needs_background": "light"
     },
     "output_type": "display_data"
    }
   ],
   "source": [
    "shogi_df[(shogi_df.score_label.apply(lambda x: abs(x))) < 6].score_label.hist()"
   ]
  },
  {
   "cell_type": "code",
   "execution_count": 61,
   "metadata": {},
   "outputs": [],
   "source": [
    "df = pd.merge(extract_df, shogi_df, on=\"hand_number\")"
   ]
  },
  {
   "cell_type": "code",
   "execution_count": 85,
   "metadata": {},
   "outputs": [
    {
     "data": {
      "text/html": [
       "<div>\n",
       "<style scoped>\n",
       "    .dataframe tbody tr th:only-of-type {\n",
       "        vertical-align: middle;\n",
       "    }\n",
       "\n",
       "    .dataframe tbody tr th {\n",
       "        vertical-align: top;\n",
       "    }\n",
       "\n",
       "    .dataframe thead th {\n",
       "        text-align: right;\n",
       "    }\n",
       "</style>\n",
       "<table border=\"1\" class=\"dataframe\">\n",
       "  <thead>\n",
       "    <tr style=\"text-align: right;\">\n",
       "      <th></th>\n",
       "      <th>original_hash</th>\n",
       "      <th>skelton_hash</th>\n",
       "      <th>hand_number</th>\n",
       "    </tr>\n",
       "  </thead>\n",
       "  <tbody>\n",
       "    <tr>\n",
       "      <th>count</th>\n",
       "      <td>31.000000</td>\n",
       "      <td>31.000000</td>\n",
       "      <td>31.000000</td>\n",
       "    </tr>\n",
       "    <tr>\n",
       "      <th>mean</th>\n",
       "      <td>10.000000</td>\n",
       "      <td>11.741935</td>\n",
       "      <td>5.064516</td>\n",
       "    </tr>\n",
       "    <tr>\n",
       "      <th>std</th>\n",
       "      <td>8.049845</td>\n",
       "      <td>10.079576</td>\n",
       "      <td>3.355945</td>\n",
       "    </tr>\n",
       "    <tr>\n",
       "      <th>min</th>\n",
       "      <td>4.000000</td>\n",
       "      <td>2.000000</td>\n",
       "      <td>0.000000</td>\n",
       "    </tr>\n",
       "    <tr>\n",
       "      <th>25%</th>\n",
       "      <td>6.000000</td>\n",
       "      <td>4.000000</td>\n",
       "      <td>2.000000</td>\n",
       "    </tr>\n",
       "    <tr>\n",
       "      <th>50%</th>\n",
       "      <td>8.000000</td>\n",
       "      <td>8.000000</td>\n",
       "      <td>5.000000</td>\n",
       "    </tr>\n",
       "    <tr>\n",
       "      <th>75%</th>\n",
       "      <td>10.000000</td>\n",
       "      <td>13.000000</td>\n",
       "      <td>8.000000</td>\n",
       "    </tr>\n",
       "    <tr>\n",
       "      <th>max</th>\n",
       "      <td>36.000000</td>\n",
       "      <td>31.000000</td>\n",
       "      <td>10.000000</td>\n",
       "    </tr>\n",
       "  </tbody>\n",
       "</table>\n",
       "</div>"
      ],
      "text/plain": [
       "       original_hash  skelton_hash  hand_number\n",
       "count      31.000000     31.000000    31.000000\n",
       "mean       10.000000     11.741935     5.064516\n",
       "std         8.049845     10.079576     3.355945\n",
       "min         4.000000      2.000000     0.000000\n",
       "25%         6.000000      4.000000     2.000000\n",
       "50%         8.000000      8.000000     5.000000\n",
       "75%        10.000000     13.000000     8.000000\n",
       "max        36.000000     31.000000    10.000000"
      ]
     },
     "execution_count": 85,
     "metadata": {},
     "output_type": "execute_result"
    }
   ],
   "source": [
    "extract_df[extract_df.hand_number <= 10].describe()"
   ]
  },
  {
   "cell_type": "code",
   "execution_count": 80,
   "metadata": {},
   "outputs": [
    {
     "data": {
      "text/plain": [
       "<matplotlib.axes._subplots.AxesSubplot at 0x7edfdd5160>"
      ]
     },
     "execution_count": 80,
     "metadata": {},
     "output_type": "execute_result"
    },
    {
     "name": "stderr",
     "output_type": "stream",
     "text": [
      "/home/nvidia/.pyenv/versions/3.5.2/lib/python3.5/site-packages/matplotlib/font_manager.py:1331: UserWarning: findfont: Font family ['IPAPGothic'] not found. Falling back to DejaVu Sans\n",
      "  (prop.get_family(), self.defaultFamily[fontext]))\n"
     ]
    },
    {
     "data": {
      "text/plain": [
       "<Figure size 2160x1296 with 0 Axes>"
      ]
     },
     "metadata": {},
     "output_type": "display_data"
    },
    {
     "data": {
      "image/png": "[encoded data removed]",
      "text/plain": [
       "<Figure size 432x288 with 1 Axes>"
      ]
     },
     "metadata": {
      "needs_background": "light"
     },
     "output_type": "display_data"
    }
   ],
   "source": [
    "plt.figure(figsize=(30,18))\n",
    "extract_df.plot(kind=\"scatter\", x=\"hand_number\", y=\"skelton_hash\")"
   ]
  },
  {
   "cell_type": "code",
   "execution_count": 82,
   "metadata": {},
   "outputs": [],
   "source": [
    "df.to_csv(\"../data/AbemaTV_Tournament_Final1_pose_data_frame{}.csv\".format(sampling_frame_rate), index=False)"
   ]
  },
  {
   "cell_type": "code",
   "execution_count": 83,
   "metadata": {},
   "outputs": [
    {
     "data": {
      "text/html": [
       "<div>\n",
       "<style scoped>\n",
       "    .dataframe tbody tr th:only-of-type {\n",
       "        vertical-align: middle;\n",
       "    }\n",
       "\n",
       "    .dataframe tbody tr th {\n",
       "        vertical-align: top;\n",
       "    }\n",
       "\n",
       "    .dataframe thead th {\n",
       "        text-align: right;\n",
       "    }\n",
       "</style>\n",
       "<table border=\"1\" class=\"dataframe\">\n",
       "  <thead>\n",
       "    <tr style=\"text-align: right;\">\n",
       "      <th></th>\n",
       "      <th>original_hash</th>\n",
       "      <th>skelton_hash</th>\n",
       "      <th>hand_number</th>\n",
       "      <th>score</th>\n",
       "      <th>score_label</th>\n",
       "    </tr>\n",
       "  </thead>\n",
       "  <tbody>\n",
       "    <tr>\n",
       "      <th>0</th>\n",
       "      <td>8</td>\n",
       "      <td>12</td>\n",
       "      <td>0</td>\n",
       "      <td>0</td>\n",
       "      <td>0</td>\n",
       "    </tr>\n",
       "    <tr>\n",
       "      <th>1</th>\n",
       "      <td>6</td>\n",
       "      <td>8</td>\n",
       "      <td>0</td>\n",
       "      <td>0</td>\n",
       "      <td>0</td>\n",
       "    </tr>\n",
       "    <tr>\n",
       "      <th>2</th>\n",
       "      <td>8</td>\n",
       "      <td>6</td>\n",
       "      <td>0</td>\n",
       "      <td>0</td>\n",
       "      <td>0</td>\n",
       "    </tr>\n",
       "    <tr>\n",
       "      <th>3</th>\n",
       "      <td>8</td>\n",
       "      <td>14</td>\n",
       "      <td>0</td>\n",
       "      <td>0</td>\n",
       "      <td>0</td>\n",
       "    </tr>\n",
       "    <tr>\n",
       "      <th>4</th>\n",
       "      <td>6</td>\n",
       "      <td>12</td>\n",
       "      <td>1</td>\n",
       "      <td>0</td>\n",
       "      <td>0</td>\n",
       "    </tr>\n",
       "    <tr>\n",
       "      <th>5</th>\n",
       "      <td>8</td>\n",
       "      <td>6</td>\n",
       "      <td>1</td>\n",
       "      <td>0</td>\n",
       "      <td>0</td>\n",
       "    </tr>\n",
       "    <tr>\n",
       "      <th>6</th>\n",
       "      <td>10</td>\n",
       "      <td>14</td>\n",
       "      <td>2</td>\n",
       "      <td>0</td>\n",
       "      <td>0</td>\n",
       "    </tr>\n",
       "    <tr>\n",
       "      <th>7</th>\n",
       "      <td>8</td>\n",
       "      <td>10</td>\n",
       "      <td>2</td>\n",
       "      <td>0</td>\n",
       "      <td>0</td>\n",
       "    </tr>\n",
       "    <tr>\n",
       "      <th>8</th>\n",
       "      <td>8</td>\n",
       "      <td>31</td>\n",
       "      <td>2</td>\n",
       "      <td>0</td>\n",
       "      <td>0</td>\n",
       "    </tr>\n",
       "    <tr>\n",
       "      <th>9</th>\n",
       "      <td>8</td>\n",
       "      <td>31</td>\n",
       "      <td>3</td>\n",
       "      <td>0</td>\n",
       "      <td>0</td>\n",
       "    </tr>\n",
       "    <tr>\n",
       "      <th>10</th>\n",
       "      <td>6</td>\n",
       "      <td>8</td>\n",
       "      <td>3</td>\n",
       "      <td>0</td>\n",
       "      <td>0</td>\n",
       "    </tr>\n",
       "    <tr>\n",
       "      <th>11</th>\n",
       "      <td>6</td>\n",
       "      <td>4</td>\n",
       "      <td>4</td>\n",
       "      <td>0</td>\n",
       "      <td>0</td>\n",
       "    </tr>\n",
       "    <tr>\n",
       "      <th>12</th>\n",
       "      <td>4</td>\n",
       "      <td>4</td>\n",
       "      <td>4</td>\n",
       "      <td>0</td>\n",
       "      <td>0</td>\n",
       "    </tr>\n",
       "    <tr>\n",
       "      <th>13</th>\n",
       "      <td>6</td>\n",
       "      <td>12</td>\n",
       "      <td>5</td>\n",
       "      <td>0</td>\n",
       "      <td>0</td>\n",
       "    </tr>\n",
       "    <tr>\n",
       "      <th>14</th>\n",
       "      <td>8</td>\n",
       "      <td>31</td>\n",
       "      <td>5</td>\n",
       "      <td>0</td>\n",
       "      <td>0</td>\n",
       "    </tr>\n",
       "    <tr>\n",
       "      <th>15</th>\n",
       "      <td>6</td>\n",
       "      <td>6</td>\n",
       "      <td>5</td>\n",
       "      <td>0</td>\n",
       "      <td>0</td>\n",
       "    </tr>\n",
       "    <tr>\n",
       "      <th>16</th>\n",
       "      <td>4</td>\n",
       "      <td>2</td>\n",
       "      <td>6</td>\n",
       "      <td>0</td>\n",
       "      <td>0</td>\n",
       "    </tr>\n",
       "    <tr>\n",
       "      <th>17</th>\n",
       "      <td>6</td>\n",
       "      <td>4</td>\n",
       "      <td>6</td>\n",
       "      <td>0</td>\n",
       "      <td>0</td>\n",
       "    </tr>\n",
       "    <tr>\n",
       "      <th>18</th>\n",
       "      <td>8</td>\n",
       "      <td>8</td>\n",
       "      <td>6</td>\n",
       "      <td>0</td>\n",
       "      <td>0</td>\n",
       "    </tr>\n",
       "    <tr>\n",
       "      <th>19</th>\n",
       "      <td>12</td>\n",
       "      <td>31</td>\n",
       "      <td>6</td>\n",
       "      <td>0</td>\n",
       "      <td>0</td>\n",
       "    </tr>\n",
       "    <tr>\n",
       "      <th>20</th>\n",
       "      <td>10</td>\n",
       "      <td>4</td>\n",
       "      <td>7</td>\n",
       "      <td>0</td>\n",
       "      <td>0</td>\n",
       "    </tr>\n",
       "    <tr>\n",
       "      <th>21</th>\n",
       "      <td>6</td>\n",
       "      <td>4</td>\n",
       "      <td>7</td>\n",
       "      <td>0</td>\n",
       "      <td>0</td>\n",
       "    </tr>\n",
       "    <tr>\n",
       "      <th>22</th>\n",
       "      <td>6</td>\n",
       "      <td>4</td>\n",
       "      <td>8</td>\n",
       "      <td>120</td>\n",
       "      <td>0</td>\n",
       "    </tr>\n",
       "    <tr>\n",
       "      <th>23</th>\n",
       "      <td>6</td>\n",
       "      <td>6</td>\n",
       "      <td>8</td>\n",
       "      <td>120</td>\n",
       "      <td>0</td>\n",
       "    </tr>\n",
       "    <tr>\n",
       "      <th>24</th>\n",
       "      <td>10</td>\n",
       "      <td>8</td>\n",
       "      <td>9</td>\n",
       "      <td>0</td>\n",
       "      <td>0</td>\n",
       "    </tr>\n",
       "    <tr>\n",
       "      <th>25</th>\n",
       "      <td>12</td>\n",
       "      <td>31</td>\n",
       "      <td>9</td>\n",
       "      <td>0</td>\n",
       "      <td>0</td>\n",
       "    </tr>\n",
       "    <tr>\n",
       "      <th>26</th>\n",
       "      <td>10</td>\n",
       "      <td>6</td>\n",
       "      <td>9</td>\n",
       "      <td>0</td>\n",
       "      <td>0</td>\n",
       "    </tr>\n",
       "    <tr>\n",
       "      <th>27</th>\n",
       "      <td>6</td>\n",
       "      <td>8</td>\n",
       "      <td>9</td>\n",
       "      <td>0</td>\n",
       "      <td>0</td>\n",
       "    </tr>\n",
       "    <tr>\n",
       "      <th>28</th>\n",
       "      <td>36</td>\n",
       "      <td>4</td>\n",
       "      <td>10</td>\n",
       "      <td>0</td>\n",
       "      <td>0</td>\n",
       "    </tr>\n",
       "    <tr>\n",
       "      <th>29</th>\n",
       "      <td>34</td>\n",
       "      <td>4</td>\n",
       "      <td>10</td>\n",
       "      <td>0</td>\n",
       "      <td>0</td>\n",
       "    </tr>\n",
       "    <tr>\n",
       "      <th>...</th>\n",
       "      <td>...</td>\n",
       "      <td>...</td>\n",
       "      <td>...</td>\n",
       "      <td>...</td>\n",
       "      <td>...</td>\n",
       "    </tr>\n",
       "    <tr>\n",
       "      <th>1002</th>\n",
       "      <td>30</td>\n",
       "      <td>14</td>\n",
       "      <td>88</td>\n",
       "      <td>-308</td>\n",
       "      <td>-2</td>\n",
       "    </tr>\n",
       "    <tr>\n",
       "      <th>1003</th>\n",
       "      <td>34</td>\n",
       "      <td>14</td>\n",
       "      <td>88</td>\n",
       "      <td>-308</td>\n",
       "      <td>-2</td>\n",
       "    </tr>\n",
       "    <tr>\n",
       "      <th>1004</th>\n",
       "      <td>30</td>\n",
       "      <td>16</td>\n",
       "      <td>88</td>\n",
       "      <td>-308</td>\n",
       "      <td>-2</td>\n",
       "    </tr>\n",
       "    <tr>\n",
       "      <th>1005</th>\n",
       "      <td>32</td>\n",
       "      <td>16</td>\n",
       "      <td>89</td>\n",
       "      <td>-737</td>\n",
       "      <td>-3</td>\n",
       "    </tr>\n",
       "    <tr>\n",
       "      <th>1006</th>\n",
       "      <td>30</td>\n",
       "      <td>16</td>\n",
       "      <td>89</td>\n",
       "      <td>-737</td>\n",
       "      <td>-3</td>\n",
       "    </tr>\n",
       "    <tr>\n",
       "      <th>1007</th>\n",
       "      <td>26</td>\n",
       "      <td>18</td>\n",
       "      <td>89</td>\n",
       "      <td>-737</td>\n",
       "      <td>-3</td>\n",
       "    </tr>\n",
       "    <tr>\n",
       "      <th>1008</th>\n",
       "      <td>28</td>\n",
       "      <td>28</td>\n",
       "      <td>89</td>\n",
       "      <td>-737</td>\n",
       "      <td>-3</td>\n",
       "    </tr>\n",
       "    <tr>\n",
       "      <th>1009</th>\n",
       "      <td>34</td>\n",
       "      <td>24</td>\n",
       "      <td>89</td>\n",
       "      <td>-737</td>\n",
       "      <td>-3</td>\n",
       "    </tr>\n",
       "    <tr>\n",
       "      <th>1010</th>\n",
       "      <td>32</td>\n",
       "      <td>16</td>\n",
       "      <td>90</td>\n",
       "      <td>-408</td>\n",
       "      <td>-2</td>\n",
       "    </tr>\n",
       "    <tr>\n",
       "      <th>1011</th>\n",
       "      <td>34</td>\n",
       "      <td>16</td>\n",
       "      <td>90</td>\n",
       "      <td>-408</td>\n",
       "      <td>-2</td>\n",
       "    </tr>\n",
       "    <tr>\n",
       "      <th>1012</th>\n",
       "      <td>32</td>\n",
       "      <td>16</td>\n",
       "      <td>90</td>\n",
       "      <td>-408</td>\n",
       "      <td>-2</td>\n",
       "    </tr>\n",
       "    <tr>\n",
       "      <th>1013</th>\n",
       "      <td>34</td>\n",
       "      <td>14</td>\n",
       "      <td>90</td>\n",
       "      <td>-408</td>\n",
       "      <td>-2</td>\n",
       "    </tr>\n",
       "    <tr>\n",
       "      <th>1014</th>\n",
       "      <td>32</td>\n",
       "      <td>14</td>\n",
       "      <td>90</td>\n",
       "      <td>-408</td>\n",
       "      <td>-2</td>\n",
       "    </tr>\n",
       "    <tr>\n",
       "      <th>1015</th>\n",
       "      <td>30</td>\n",
       "      <td>16</td>\n",
       "      <td>90</td>\n",
       "      <td>-408</td>\n",
       "      <td>-2</td>\n",
       "    </tr>\n",
       "    <tr>\n",
       "      <th>1016</th>\n",
       "      <td>30</td>\n",
       "      <td>16</td>\n",
       "      <td>91</td>\n",
       "      <td>1267</td>\n",
       "      <td>4</td>\n",
       "    </tr>\n",
       "    <tr>\n",
       "      <th>1017</th>\n",
       "      <td>26</td>\n",
       "      <td>14</td>\n",
       "      <td>91</td>\n",
       "      <td>1267</td>\n",
       "      <td>4</td>\n",
       "    </tr>\n",
       "    <tr>\n",
       "      <th>1018</th>\n",
       "      <td>30</td>\n",
       "      <td>16</td>\n",
       "      <td>91</td>\n",
       "      <td>1267</td>\n",
       "      <td>4</td>\n",
       "    </tr>\n",
       "    <tr>\n",
       "      <th>1019</th>\n",
       "      <td>28</td>\n",
       "      <td>20</td>\n",
       "      <td>91</td>\n",
       "      <td>1267</td>\n",
       "      <td>4</td>\n",
       "    </tr>\n",
       "    <tr>\n",
       "      <th>1020</th>\n",
       "      <td>34</td>\n",
       "      <td>20</td>\n",
       "      <td>91</td>\n",
       "      <td>1267</td>\n",
       "      <td>4</td>\n",
       "    </tr>\n",
       "    <tr>\n",
       "      <th>1021</th>\n",
       "      <td>36</td>\n",
       "      <td>12</td>\n",
       "      <td>92</td>\n",
       "      <td>1535</td>\n",
       "      <td>5</td>\n",
       "    </tr>\n",
       "    <tr>\n",
       "      <th>1022</th>\n",
       "      <td>26</td>\n",
       "      <td>14</td>\n",
       "      <td>92</td>\n",
       "      <td>1535</td>\n",
       "      <td>5</td>\n",
       "    </tr>\n",
       "    <tr>\n",
       "      <th>1023</th>\n",
       "      <td>28</td>\n",
       "      <td>8</td>\n",
       "      <td>93</td>\n",
       "      <td>1720</td>\n",
       "      <td>5</td>\n",
       "    </tr>\n",
       "    <tr>\n",
       "      <th>1024</th>\n",
       "      <td>28</td>\n",
       "      <td>12</td>\n",
       "      <td>93</td>\n",
       "      <td>1720</td>\n",
       "      <td>5</td>\n",
       "    </tr>\n",
       "    <tr>\n",
       "      <th>1025</th>\n",
       "      <td>30</td>\n",
       "      <td>16</td>\n",
       "      <td>93</td>\n",
       "      <td>1720</td>\n",
       "      <td>5</td>\n",
       "    </tr>\n",
       "    <tr>\n",
       "      <th>1026</th>\n",
       "      <td>26</td>\n",
       "      <td>26</td>\n",
       "      <td>93</td>\n",
       "      <td>1720</td>\n",
       "      <td>5</td>\n",
       "    </tr>\n",
       "    <tr>\n",
       "      <th>1027</th>\n",
       "      <td>34</td>\n",
       "      <td>31</td>\n",
       "      <td>93</td>\n",
       "      <td>1720</td>\n",
       "      <td>5</td>\n",
       "    </tr>\n",
       "    <tr>\n",
       "      <th>1028</th>\n",
       "      <td>34</td>\n",
       "      <td>18</td>\n",
       "      <td>94</td>\n",
       "      <td>1933</td>\n",
       "      <td>6</td>\n",
       "    </tr>\n",
       "    <tr>\n",
       "      <th>1029</th>\n",
       "      <td>32</td>\n",
       "      <td>20</td>\n",
       "      <td>94</td>\n",
       "      <td>1933</td>\n",
       "      <td>6</td>\n",
       "    </tr>\n",
       "    <tr>\n",
       "      <th>1030</th>\n",
       "      <td>32</td>\n",
       "      <td>20</td>\n",
       "      <td>94</td>\n",
       "      <td>1933</td>\n",
       "      <td>6</td>\n",
       "    </tr>\n",
       "    <tr>\n",
       "      <th>1031</th>\n",
       "      <td>32</td>\n",
       "      <td>32</td>\n",
       "      <td>94</td>\n",
       "      <td>1933</td>\n",
       "      <td>6</td>\n",
       "    </tr>\n",
       "  </tbody>\n",
       "</table>\n",
       "<p>1032 rows × 5 columns</p>\n",
       "</div>"
      ],
      "text/plain": [
       "      original_hash  skelton_hash  hand_number  score  score_label\n",
       "0                 8            12            0      0            0\n",
       "1                 6             8            0      0            0\n",
       "2                 8             6            0      0            0\n",
       "3                 8            14            0      0            0\n",
       "4                 6            12            1      0            0\n",
       "5                 8             6            1      0            0\n",
       "6                10            14            2      0            0\n",
       "7                 8            10            2      0            0\n",
       "8                 8            31            2      0            0\n",
       "9                 8            31            3      0            0\n",
       "10                6             8            3      0            0\n",
       "11                6             4            4      0            0\n",
       "12                4             4            4      0            0\n",
       "13                6            12            5      0            0\n",
       "14                8            31            5      0            0\n",
       "15                6             6            5      0            0\n",
       "16                4             2            6      0            0\n",
       "17                6             4            6      0            0\n",
       "18                8             8            6      0            0\n",
       "19               12            31            6      0            0\n",
       "20               10             4            7      0            0\n",
       "21                6             4            7      0            0\n",
       "22                6             4            8    120            0\n",
       "23                6             6            8    120            0\n",
       "24               10             8            9      0            0\n",
       "25               12            31            9      0            0\n",
       "26               10             6            9      0            0\n",
       "27                6             8            9      0            0\n",
       "28               36             4           10      0            0\n",
       "29               34             4           10      0            0\n",
       "...             ...           ...          ...    ...          ...\n",
       "1002             30            14           88   -308           -2\n",
       "1003             34            14           88   -308           -2\n",
       "1004             30            16           88   -308           -2\n",
       "1005             32            16           89   -737           -3\n",
       "1006             30            16           89   -737           -3\n",
       "1007             26            18           89   -737           -3\n",
       "1008             28            28           89   -737           -3\n",
       "1009             34            24           89   -737           -3\n",
       "1010             32            16           90   -408           -2\n",
       "1011             34            16           90   -408           -2\n",
       "1012             32            16           90   -408           -2\n",
       "1013             34            14           90   -408           -2\n",
       "1014             32            14           90   -408           -2\n",
       "1015             30            16           90   -408           -2\n",
       "1016             30            16           91   1267            4\n",
       "1017             26            14           91   1267            4\n",
       "1018             30            16           91   1267            4\n",
       "1019             28            20           91   1267            4\n",
       "1020             34            20           91   1267            4\n",
       "1021             36            12           92   1535            5\n",
       "1022             26            14           92   1535            5\n",
       "1023             28             8           93   1720            5\n",
       "1024             28            12           93   1720            5\n",
       "1025             30            16           93   1720            5\n",
       "1026             26            26           93   1720            5\n",
       "1027             34            31           93   1720            5\n",
       "1028             34            18           94   1933            6\n",
       "1029             32            20           94   1933            6\n",
       "1030             32            20           94   1933            6\n",
       "1031             32            32           94   1933            6\n",
       "\n",
       "[1032 rows x 5 columns]"
      ]
     },
     "execution_count": 83,
     "metadata": {},
     "output_type": "execute_result"
    }
   ],
   "source": [
    "df"
   ]
  }
 ],
 "metadata": {
  "kernelspec": {
   "display_name": "Python 3",
   "language": "python",
   "name": "python3"
  },
  "language_info": {
   "codemirror_mode": {
    "name": "ipython",
    "version": 3
   },
   "file_extension": ".py",
   "mimetype": "text/x-python",
   "name": "python",
   "nbconvert_exporter": "python",
   "pygments_lexer": "ipython3",
   "version": "3.5.2"
  }
 },
 "nbformat": 4,
 "nbformat_minor": 2
}
