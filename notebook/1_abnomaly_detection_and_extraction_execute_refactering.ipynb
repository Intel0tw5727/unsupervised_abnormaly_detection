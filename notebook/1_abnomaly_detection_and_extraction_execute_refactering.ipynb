{
 "cells": [
  {
   "cell_type": "markdown",
   "metadata": {},
   "source": [
    "##  実験目標\n",
    "- 一局を通して現れる異常な行動を画像ベースで取得する\n",
    "\n",
    "## 実験手順\n",
    "- 棋譜から評価値を読み込む -> ok\n",
    "- 「指し手から次の指し手」までの間隔を画像ベースで把握する -> ok\n",
    "- 初手から10手をニュートラルの姿勢とし、異常検知をして画像を収集する -> ok\n",
    "    - 初手から10手の画像とpose抽出画像をそれぞれaddWeightedで重ねる -> ok\n",
    "    - 2種類の画像を基準に異常な行動画像を抽出\n",
    "        - 10手で作成した合成画像から外れ値となるしきい値を生成"
   ]
  },
  {
   "cell_type": "markdown",
   "metadata": {},
   "source": [
    "## モジュールの読み込み\n"
   ]
  },
  {
   "cell_type": "code",
   "execution_count": 1,
   "metadata": {},
   "outputs": [],
   "source": [
    "import cv2\n",
    "import numpy as np\n",
    "import matplotlib.pyplot as plt\n",
    "%matplotlib inline\n",
    "plt.rcParams['font.family'] = 'IPAPGothic'\n",
    "import pandas as pd\n",
    "from tqdm import tqdm_notebook as tqdm\n",
    "import imagehash\n",
    "from PIL import Image\n",
    "\n",
    "import os\n",
    "import sys\n",
    "\n",
    "# 特徴量抽出\n",
    "from DeNAPose.pose_detector import PoseDetector, draw_person_pose"
   ]
  },
  {
   "cell_type": "code",
   "execution_count": 2,
   "metadata": {},
   "outputs": [],
   "source": [
    "# データフレームの作成と出力\n",
    "# 棋譜データの読み込みとデータフレーム作成\n",
    "# kifデータを合わせる\n",
    "with open(\"../data/kif/AbemaTV_Tournament_Final1_analized.kif\", encoding=\"utf-8\") as f:\n",
    "    kif = f.readlines()\n",
    "shogi_df = pd.DataFrame([int(k.split(\" \")[1]) for k in kif if \"*##\" in k], columns=[\"score\"])\n",
    "shogi_df['score_label'] = shogi_df[\"score\"].map(lambda x: x//300)\n",
    "shogi_df[\"hand_number\"] = shogi_df.index"
   ]
  },
  {
   "cell_type": "markdown",
   "metadata": {},
   "source": [
    "スケルトン画像のみを基準画像にするのでリファクタリング"
   ]
  },
  {
   "cell_type": "code",
   "execution_count": 3,
   "metadata": {},
   "outputs": [],
   "source": [
    "# 各パラメータの定義\n",
    "mean_flag = True # 基準画像が作成されているかどうか\n",
    "flag_prev, flag_next = True, True # n手目とn+1手目のblack or white\n",
    "isFujii = True # Falseなら後手\n",
    "time_idx, hand_idx = 0, 0 # 手番が渡って次の指し手までのidx\n",
    "threshold = 10 # 評価値が変化するまでと定義したときのthreshold\n",
    "pose_thresh = 4 # openposeによるスケルトン抽出時の信頼度スコアのしきい値\n",
    "sampling_frame_rate = 6 # サンプリングレート\n",
    "\n",
    "pose_frames, hand_labels, times = [], [], []\n",
    "orig_hash_list, skel_hash_list = [], []"
   ]
  },
  {
   "cell_type": "code",
   "execution_count": 4,
   "metadata": {},
   "outputs": [
    {
     "name": "stdout",
     "output_type": "stream",
     "text": [
      "Loading the model...\n"
     ]
    }
   ],
   "source": [
    "# データとモデルの読み込み\n",
    "cap = cv2.VideoCapture(\"/media/nvidia/JetsonTX2SSD240/data/AbemaTV_Tournament_Final1.mp4\")\n",
    "pose_detector = PoseDetector(\"posenet\", \"../utils/DeNAPose/models/coco_posenet.npz\", device=0)"
   ]
  },
  {
   "cell_type": "code",
   "execution_count": null,
   "metadata": {},
   "outputs": [],
   "source": [
    "def is_change_player(flag_prev, flag_next, black_flag_rect, white_flag_rect):\n",
    "    if (flag_prev ^ flag_next): # i==0\n",
    "        b_mean_prev = np.mean(black_flag_rect, axis=(0, 1))\n",
    "        w_mean_prev = np.mean(white_flag_rect, axis=(0, 1)) \n",
    "        flag_prev = flag_next\n",
    "        is_change = True\n",
    "    \n",
    "    else:\n",
    "        b_mean_next = np.mean(black_flag_rect, axis=(0, 1))\n",
    "        w_mean_next = np.mean(white_flag_rect, axis=(0, 1))\n",
    "\n",
    "        if flag_prev:\n",
    "            state = np.mean(b_mean_next - b_mean_prev)\n",
    "            b_mean_prev = b_mean_next\n",
    "        else:\n",
    "            state = np.mean(w_mean_next - w_mean_prev)\n",
    "            w_mean_prev = w_mean_next \n",
    "\n",
    "        if abs(state) > threshold:\n",
    "            flag_next = not flag_next\n",
    "            print(\"{}の指し手までの時間: {}s\".format([\"先手\", \"後手\"][~flag_prev], (i - time_idx) * sampling_frame_rate//60))\n",
    "            times.append((i - time_idx) * 0.1)\n",
    "            time_idx = i\n",
    "            hand_idx += 1\n",
    "            \n",
    "        is_change = False\n",
    "            \n",
    "    return (is_change, b_mean_prev, w_mean_prev, flag_prev, flag_next)"
   ]
  },
  {
   "cell_type": "code",
   "execution_count": 4,
   "metadata": {
    "scrolled": true
   },
   "outputs": [
    {
     "name": "stdout",
     "output_type": "stream",
     "text": [
      "Loading the model...\n"
     ]
    },
    {
     "data": {
      "application/vnd.jupyter.widget-view+json": {
       "model_id": "a8758f7d1fcf4a32ab7bc6d2990e0b21",
       "version_major": 2,
       "version_minor": 0
      },
      "text/plain": [
       "HBox(children=(IntProgress(value=0, max=5161), HTML(value='')))"
      ]
     },
     "metadata": {},
     "output_type": "display_data"
    },
    {
     "name": "stdout",
     "output_type": "stream",
     "text": [
      "先手の指し手までの時間: 2s\n",
      "後手の指し手までの時間: 2s\n",
      "先手の指し手までの時間: 3s\n",
      "後手の指し手までの時間: 1s\n",
      "先手の指し手までの時間: 2s\n",
      "後手の指し手までの時間: 2s\n",
      "先手の指し手までの時間: 4s\n",
      "後手の指し手までの時間: 1s\n",
      "先手の指し手までの時間: 2s\n",
      "後手の指し手までの時間: 3s\n"
     ]
    },
    {
     "data": {
      "application/vnd.jupyter.widget-view+json": {
       "model_id": "173b1112eef543219d5e5b1aec3d5969",
       "version_major": 2,
       "version_minor": 0
      },
      "text/plain": [
       "HBox(children=(IntProgress(value=0, max=134), HTML(value='')))"
      ]
     },
     "metadata": {},
     "output_type": "display_data"
    },
    {
     "name": "stderr",
     "output_type": "stream",
     "text": [
      "/home/nvidia/Desktop/Research/utils/DeNAPose/pose_detector.py:147: FutureWarning: Using a non-tuple sequence for multidimensional indexing is deprecated; use `arr[tuple(seq)]` instead of `arr[seq]`. In the future this will be interpreted as an array index, `arr[np.array(seq)]`, which will result either in an error or a different result.\n",
      "  paf_in_edge = np.hstack([paf[0][np.hsplit(integ_points, 2)], paf[1][np.hsplit(integ_points, 2)]])\n"
     ]
    },
    {
     "data": {
      "application/vnd.jupyter.widget-view+json": {
       "model_id": "df022c2680d64c5e8cc17655888380cc",
       "version_major": 2,
       "version_minor": 0
      },
      "text/plain": [
       "HBox(children=(IntProgress(value=1, bar_style='info', max=1), HTML(value='')))"
      ]
     },
     "metadata": {},
     "output_type": "display_data"
    },
    {
     "name": "stdout",
     "output_type": "stream",
     "text": [
      "phash thresh: 11.470149253731343\n",
      "先手の指し手までの時間: 3s\n",
      "後手の指し手までの時間: 1s\n",
      "先手の指し手までの時間: 2s\n",
      "後手の指し手までの時間: 1s\n",
      "先手の指し手までの時間: 3s\n",
      "後手の指し手までの時間: 1s\n",
      "先手の指し手までの時間: 2s\n",
      "後手の指し手までの時間: 1s\n",
      "先手の指し手までの時間: 9s\n",
      "後手の指し手までの時間: 1s\n",
      "先手の指し手までの時間: 2s\n",
      "後手の指し手までの時間: 2s\n",
      "先手の指し手までの時間: 7s\n",
      "後手の指し手までの時間: 2s\n",
      "先手の指し手までの時間: 2s\n",
      "後手の指し手までの時間: 2s\n",
      "先手の指し手までの時間: 7s\n",
      "後手の指し手までの時間: 2s\n",
      "先手の指し手までの時間: 10s\n",
      "後手の指し手までの時間: 1s\n",
      "先手の指し手までの時間: 4s\n",
      "後手の指し手までの時間: 2s\n",
      "先手の指し手までの時間: 2s\n",
      "後手の指し手までの時間: 2s\n",
      "先手の指し手までの時間: 3s\n",
      "後手の指し手までの時間: 3s\n",
      "先手の指し手までの時間: 2s\n",
      "後手の指し手までの時間: 3s\n",
      "先手の指し手までの時間: 2s\n",
      "後手の指し手までの時間: 10s\n",
      "先手の指し手までの時間: 4s\n",
      "後手の指し手までの時間: 49s\n",
      "先手の指し手までの時間: 12s\n",
      "後手の指し手までの時間: 32s\n",
      "先手の指し手までの時間: 2s\n",
      "後手の指し手までの時間: 27s\n",
      "先手の指し手までの時間: 40s\n",
      "後手の指し手までの時間: 15s\n",
      "先手の指し手までの時間: 5s\n",
      "後手の指し手までの時間: 3s\n",
      "先手の指し手までの時間: 33s\n",
      "後手の指し手までの時間: 2s\n",
      "先手の指し手までの時間: 100s\n",
      "後手の指し手までの時間: 6s\n",
      "先手の指し手までの時間: 35s\n",
      "後手の指し手までの時間: 30s\n",
      "先手の指し手までの時間: 2s\n",
      "後手の指し手までの時間: 26s\n",
      "先手の指し手までの時間: 13s\n",
      "後手の指し手までの時間: 6s\n",
      "先手の指し手までの時間: 59s\n",
      "後手の指し手までの時間: 48s\n",
      "先手の指し手までの時間: 14s\n",
      "後手の指し手までの時間: 2s\n",
      "先手の指し手までの時間: 30s\n",
      "後手の指し手までの時間: 3s\n",
      "先手の指し手までの時間: 4s\n",
      "後手の指し手までの時間: 18s\n",
      "先手の指し手までの時間: 4s\n",
      "後手の指し手までの時間: 11s\n",
      "先手の指し手までの時間: 13s\n",
      "後手の指し手までの時間: 18s\n",
      "先手の指し手までの時間: 3s\n",
      "後手の指し手までの時間: 19s\n",
      "先手の指し手までの時間: 1s\n",
      "後手の指し手までの時間: 7s\n",
      "先手の指し手までの時間: 3s\n",
      "後手の指し手までの時間: 5s\n",
      "先手の指し手までの時間: 9s\n",
      "後手の指し手までの時間: 31s\n",
      "先手の指し手までの時間: 2s\n",
      "後手の指し手までの時間: 3s\n",
      "先手の指し手までの時間: 10s\n",
      "後手の指し手までの時間: 12s\n",
      "先手の指し手までの時間: 1s\n",
      "後手の指し手までの時間: 20s\n",
      "先手の指し手までの時間: 1s\n",
      "後手の指し手までの時間: 39s\n",
      "先手の指し手までの時間: 6s\n",
      "後手の指し手までの時間: 7s\n",
      "先手の指し手までの時間: 5s\n",
      "後手の指し手までの時間: 5s\n",
      "先手の指し手までの時間: 6s\n",
      "後手の指し手までの時間: 5s\n",
      "先手の指し手までの時間: 1s\n",
      "後手の指し手までの時間: 5s\n",
      "\n"
     ]
    }
   ],
   "source": [
    "for i in tqdm(range(int(cap.get(cv2.CAP_PROP_FRAME_COUNT))//sampling_frame_rate)):\n",
    "    cap.set(cv2.CAP_PROP_POS_FRAMES, sampling_frame_rate*i)\n",
    "\n",
    "    frame = cv2.cvtColor(cap.read()[1], cv2.COLOR_BGR2RGB)\n",
    "    pose_rect = frame[220:510, 1340:1860].copy()\n",
    "    \n",
    "    # キャリブレーション用にメモリに確保\n",
    "    if mean_flag:\n",
    "        pose_frames.append(pose_rect)\n",
    "        \n",
    "    hand_labels.append(hand_idx)\n",
    "\n",
    "    black_flag_rect = frame[475:630, 35:45].copy()\n",
    "    white_flag_rect = frame[555:710, 1345:1355].copy()\n",
    "\n",
    "    # 先手と後手が入れ替わったら(先後判別)\n",
    "    is_change_param = is_change_player(flag_prev, flag_next, black_flag_rect, white_flag_rect)\n",
    "    if is_change_param[0]: # 先後が入れ替わっている場合はスキップ\n",
    "        continue\n",
    "\n",
    "    # 10手指したらこれまでの画像の平均的な画像をオリジナルとスケルトンの2つで作成\n",
    "    # 0.1秒ごとの画像が取れているのでそこから10分の1枚をサンプリングして使用\n",
    "    if (hand_idx == threshold) and mean_flag:\n",
    "        skel_imgs = []\n",
    "        \n",
    "        for idx, img in enumerate(tqdm(pose_frames)):\n",
    "            if idx==0:\n",
    "                img_prev_orig = img\n",
    "\n",
    "                pose_keypoints, scores = pose_detector(img)\n",
    "                img_prev_skel = draw_person_pose(np.full_like(img, 255), pose_keypoints[np.where(scores > pose_thresh)])\n",
    "                skel_imgs.append(img_prev_skel)\n",
    "                continue\n",
    "            else:\n",
    "                img_next_orig = img\n",
    "\n",
    "                pose_keypoints, scores = pose_detector(img)\n",
    "                img_next_skel = draw_person_pose(np.full_like(img, 255), pose_keypoints[np.where(scores > pose_thresh)])\n",
    "                \n",
    "                skel_imgs.append(img_next_skel)\n",
    "                \n",
    "                if idx==1:\n",
    "                    img_orig_mean = cv2.addWeighted(img_prev_orig, 1 - (1/(idx+1)), img_next_orig, 1/(idx+1), 0)\n",
    "                    img_skel_mean = cv2.addWeighted(img_prev_skel, 1 - (1/(idx+1)), img_next_skel, 1/(idx+1), 0)\n",
    "                else:\n",
    "                    img_orig_mean = cv2.addWeighted(img_orig_mean, 1 - (1/(idx+1)), img_next_orig, 1/(idx+1), 0)\n",
    "                    img_skel_mean = cv2.addWeighted(img_skel_mean, 1 - (1/(idx+1)), img_next_skel, 1/(idx+1), 0)\n",
    "\n",
    "        cv2.imwrite(\"../output/img_orig_mean.png\", cv2.cvtColor(img_orig_mean, cv2.COLOR_RGB2BGR))\n",
    "        cv2.imwrite(\"../output/img_skel_mean.png\", cv2.cvtColor(img_skel_mean, cv2.COLOR_RGB2BGR))\n",
    "        \n",
    "        # キャリブレーション\n",
    "        neutral_orig_hash = imagehash.phash(Image.fromarray(np.uint8(img_orig_mean)))\n",
    "        neutral_skel_hash = imagehash.phash(Image.fromarray(np.uint8(img_skel_mean)))\n",
    "        \n",
    "        for pose_img, skel_img in tqdm(zip(pose_frames, skel_imgs)):\n",
    "            now_orig_hash = imagehash.phash(Image.fromarray(np.uint8(pose_img)))\n",
    "            now_skel_hash = imagehash.phash(Image.fromarray(np.uint8(skel_img)))\n",
    "\n",
    "            orig_hash_list.append(neutral_orig_hash - now_orig_hash)\n",
    "            skel_hash_list.append(neutral_skel_hash - now_skel_hash)\n",
    "        \n",
    "        # スケルトン画像を使ったphashの差分の平均値を基準にする\n",
    "        abnorm_thresh = np.array(skel_hash_list).mean()\n",
    "        print(\"phash thresh: {}\".format(abnorm_thresh))\n",
    "        \n",
    "        mean_flag = False\n",
    "        mean_idx = i\n",
    "        del pose_frames\n",
    "            \n",
    "\n",
    "    # 11手目からperceptual hashで差分を比較\n",
    "    # 10手目までのキャリブレーションとしてヒストグラムを出してみる\n",
    "    elif (hand_idx >= threshold) :\n",
    "        #neutral_orig_hash = imagehash.phash(Image.fromarray(np.uint8(img_orig_mean)))\n",
    "        now_orig_hash = imagehash.phash(Image.fromarray(np.uint8(black_flag_rect if isFujii else white_flag_rect)))\n",
    "\n",
    "        #neutral_skel_hash = imagehash.phash(Image.fromarray(np.uint8(img_skel_mean)))\n",
    "        pose_keypoints, scores = pose_detector(pose_rect)\n",
    "        img_skel = draw_person_pose(np.full_like(pose_rect, 255), pose_keypoints[np.where(scores > 5)])\n",
    "        now_skel_hash = imagehash.phash(Image.fromarray(np.uint8(img_skel)))\n",
    "        \n",
    "        orig_diff_hash = neutral_orig_hash - now_orig_hash\n",
    "        skel_diff_hash = neutral_skel_hash - now_skel_hash\n",
    "        \n",
    "        # 基準値を超えていれば異常行動とみなす\n",
    "        if skel_diff_hash > abnorm_thresh:\n",
    "            sup_or_inf = shogi_df.loc[hand_idx][\"score_label\"]\n",
    "            \n",
    "            if sup_or_inf == 0: # 評価値 -300 < x < 300\n",
    "                cv2.imwrite(\"/media/nvidia/JetsonTX2SSD240/data/sup_or_inf/plus_minus_0/original/pose_orig_handnum{}_frame{}.png\".format(hand_idx, i),\n",
    "                            cv2.cvtColor(pose_rect, cv2.COLOR_RGB2BGR))\n",
    "                cv2.imwrite(\"/media/nvidia/JetsonTX2SSD240/data/sup_or_inf/plus_minus_0/skelton/pose_skel_handnum{}_frame{}.png\".format(hand_idx, i), \n",
    "                            cv2.cvtColor(img_skel, cv2.COLOR_RGB2BGR))\n",
    "            elif 0 < sup_or_inf < 6: # 評価値 300 < x < 1500\n",
    "                cv2.imwrite(\"/media/nvidia/JetsonTX2SSD240/data/sup_or_inf/plus_{}/original/pose_handnum{}_frame{}.png\".format(sup_or_inf,hand_idx, i), \n",
    "                            cv2.cvtColor(pose_rect, cv2.COLOR_RGB2BGR))\n",
    "                cv2.imwrite(\"/media/nvidia/JetsonTX2SSD240/data/sup_or_inf/plus_{}/skelton/pose_handnum{}_frame{}.png\".format(sup_or_inf,hand_idx, i), \n",
    "                            cv2.cvtColor(img_skel, cv2.COLOR_RGB2BGR))\n",
    "            elif -6 < sup_or_inf < 6: # 評価値 -1500 < x < -300\n",
    "                cv2.imwrite(\"/media/nvidia/JetsonTX2SSD240/data/sup_or_inf/minus_{}/original/pose_handnum{}_frame{}.png\".format(abs(sup_or_inf),hand_idx, i), \n",
    "                            cv2.cvtColor(pose_rect, cv2.COLOR_RGB2BGR))\n",
    "                cv2.imwrite(\"/media/nvidia/JetsonTX2SSD240/data/sup_or_inf/minus_{}/skelton/pose_handnum{}_frame{}.png\".format(abs(sup_or_inf),hand_idx, i), \n",
    "                            cv2.cvtColor(img_skel, cv2.COLOR_RGB2BGR))\n",
    "            elif 6 <= sup_or_inf: # 評価値 1500 <= x\n",
    "                cv2.imwrite(\"/media/nvidia/JetsonTX2SSD240/data/sup_or_inf/plus_inf/original/pose_handnum{}_frame{}.png\".format(hand_idx, i), \n",
    "                            cv2.cvtColor(pose_rect, cv2.COLOR_RGB2BGR))\n",
    "                cv2.imwrite(\"/media/nvidia/JetsonTX2SSD240/data/sup_or_inf/plus_inf/skelton/pose_handnum{}_frame{}.png\".format(hand_idx, i), \n",
    "                            cv2.cvtColor(img_skel, cv2.COLOR_RGB2BGR))\n",
    "            elif sup_or_inf <= -6: # 評価値 x <= -1500\n",
    "                cv2.imwrite(\"/media/nvidia/JetsonTX2SSD240/data/sup_or_inf/minus_inf/original/pose_handnum{}_frame{}.png\".format(hand_idx, i), \n",
    "                            cv2.cvtColor(pose_rect, cv2.COLOR_RGB2BGR))\n",
    "                cv2.imwrite(\"/media/nvidia/JetsonTX2SSD240/data/sup_or_inf/minus_inf/skelton/pose_handnum{}_frame{}.png\".format(hand_idx, i), \n",
    "                            cv2.cvtColor(img_skel, cv2.COLOR_RGB2BGR))\n",
    "                \n",
    "        orig_hash_list.append(orig_diff_hash)\n",
    "        skel_hash_list.append(skel_diff_hash)\n",
    "        \n",
    "\n",
    "# phashデータのデータフレーム作成\n",
    "extract_df = pd.DataFrame(orig_hash_list, columns=[\"original_hash\"])\n",
    "extract_df[\"skelton_hash\"] = skel_hash_list\n",
    "extract_df[\"hand_number\"] = hand_labels\n",
    "\n",
    "# 結合\n",
    "df = pd.merge(extract_df, shogi_df, on=\"hand_number\")\n",
    "df.to_csv(\"../data/AbemaTV_Tournament_Final1_pose_data_frame{}.csv\".format(sampling_frame_rate), index=False)"
   ]
  },
  {
   "cell_type": "markdown",
   "metadata": {},
   "source": [
    "## 統計的に異常を検知するための指標を決定する"
   ]
  },
  {
   "cell_type": "code",
   "execution_count": 15,
   "metadata": {},
   "outputs": [],
   "source": [
    "del hand_labels[-1]"
   ]
  },
  {
   "cell_type": "code",
   "execution_count": 16,
   "metadata": {},
   "outputs": [],
   "source": [
    "# phashデータのデータフレーム作成\n",
    "extract_df = pd.DataFrame(orig_hash_list, columns=[\"original_hash\"])\n",
    "extract_df[\"skelton_hash\"] = skel_hash_list\n",
    "extract_df[\"hand_number\"] = hand_labels\n",
    "\n",
    "# 結合\n",
    "df = pd.merge(extract_df, shogi_df, on=\"hand_number\")\n",
    "df.to_csv(\"../data/AbemaTV_Tournament_Final1_pose_data_frame{}.csv\".format(sampling_frame_rate), index=False)"
   ]
  },
  {
   "cell_type": "code",
   "execution_count": 19,
   "metadata": {},
   "outputs": [
    {
     "data": {
      "text/html": [
       "<div>\n",
       "<style scoped>\n",
       "    .dataframe tbody tr th:only-of-type {\n",
       "        vertical-align: middle;\n",
       "    }\n",
       "\n",
       "    .dataframe tbody tr th {\n",
       "        vertical-align: top;\n",
       "    }\n",
       "\n",
       "    .dataframe thead th {\n",
       "        text-align: right;\n",
       "    }\n",
       "</style>\n",
       "<table border=\"1\" class=\"dataframe\">\n",
       "  <thead>\n",
       "    <tr style=\"text-align: right;\">\n",
       "      <th></th>\n",
       "      <th>original_hash</th>\n",
       "      <th>skelton_hash</th>\n",
       "      <th>hand_number</th>\n",
       "    </tr>\n",
       "  </thead>\n",
       "  <tbody>\n",
       "    <tr>\n",
       "      <th>10310</th>\n",
       "      <td>32</td>\n",
       "      <td>32</td>\n",
       "      <td>96</td>\n",
       "    </tr>\n",
       "    <tr>\n",
       "      <th>10311</th>\n",
       "      <td>36</td>\n",
       "      <td>36</td>\n",
       "      <td>96</td>\n",
       "    </tr>\n",
       "    <tr>\n",
       "      <th>10312</th>\n",
       "      <td>34</td>\n",
       "      <td>28</td>\n",
       "      <td>96</td>\n",
       "    </tr>\n",
       "    <tr>\n",
       "      <th>10313</th>\n",
       "      <td>32</td>\n",
       "      <td>30</td>\n",
       "      <td>96</td>\n",
       "    </tr>\n",
       "    <tr>\n",
       "      <th>10314</th>\n",
       "      <td>32</td>\n",
       "      <td>30</td>\n",
       "      <td>96</td>\n",
       "    </tr>\n",
       "  </tbody>\n",
       "</table>\n",
       "</div>"
      ],
      "text/plain": [
       "       original_hash  skelton_hash  hand_number\n",
       "10310             32            32           96\n",
       "10311             36            36           96\n",
       "10312             34            28           96\n",
       "10313             32            30           96\n",
       "10314             32            30           96"
      ]
     },
     "execution_count": 19,
     "metadata": {},
     "output_type": "execute_result"
    }
   ],
   "source": [
    "extract_df.tail()"
   ]
  },
  {
   "cell_type": "code",
   "execution_count": 21,
   "metadata": {},
   "outputs": [
    {
     "data": {
      "text/plain": [
       "Text(0.5,1,'difference perceptual hash using image original')"
      ]
     },
     "execution_count": 21,
     "metadata": {},
     "output_type": "execute_result"
    },
    {
     "name": "stderr",
     "output_type": "stream",
     "text": [
      "/home/nvidia/.pyenv/versions/3.5.2/lib/python3.5/site-packages/matplotlib/font_manager.py:1331: UserWarning: findfont: Font family ['IPAPGothic'] not found. Falling back to DejaVu Sans\n",
      "  (prop.get_family(), self.defaultFamily[fontext]))\n"
     ]
    },
    {
     "data": {
      "image/png": "[encoded data removed]",
      "text/plain": [
       "<Figure size 432x288 with 1 Axes>"
      ]
     },
     "metadata": {
      "needs_background": "light"
     },
     "output_type": "display_data"
    }
   ],
   "source": [
    "ax = extract_df.skelton_hash.hist()\n",
    "ax.set_xlabel(\"difference phash\")\n",
    "ax.set_ylabel(\"frequency\")\n",
    "ax.set_title(\"difference perceptual hash using image original\")"
   ]
  },
  {
   "cell_type": "code",
   "execution_count": 44,
   "metadata": {},
   "outputs": [
    {
     "data": {
      "text/plain": [
       "27"
      ]
     },
     "execution_count": 44,
     "metadata": {},
     "output_type": "execute_result"
    }
   ],
   "source": [
    "mean_idx"
   ]
  },
  {
   "cell_type": "code",
   "execution_count": 22,
   "metadata": {},
   "outputs": [
    {
     "name": "stderr",
     "output_type": "stream",
     "text": [
      "/home/nvidia/.pyenv/versions/3.5.2/lib/python3.5/site-packages/matplotlib/font_manager.py:1331: UserWarning: findfont: Font family ['IPAPGothic'] not found. Falling back to DejaVu Sans\n",
      "  (prop.get_family(), self.defaultFamily[fontext]))\n"
     ]
    },
    {
     "data": {
      "text/plain": [
       "<Figure size 2160x1296 with 0 Axes>"
      ]
     },
     "metadata": {},
     "output_type": "display_data"
    },
    {
     "data": {
      "image/png": "[encoded data removed]",
      "text/plain": [
       "<Figure size 432x288 with 1 Axes>"
      ]
     },
     "metadata": {
      "needs_background": "light"
     },
     "output_type": "display_data"
    }
   ],
   "source": [
    "plt.figure(figsize=(30,18))\n",
    "extract_df.plot()\n",
    "plt.title(\"difference phash and hand number\")\n",
    "plt.legend(loc='lower right')#, bbox_to_anchor=(1.0, 0.5))\n",
    "plt.savefig(\"difference_phash_and_hand_number.pdf\")"
   ]
  }
 ],
 "metadata": {
  "kernelspec": {
   "display_name": "Python 3",
   "language": "python",
   "name": "python3"
  },
  "language_info": {
   "codemirror_mode": {
    "name": "ipython",
    "version": 3
   },
   "file_extension": ".py",
   "mimetype": "text/x-python",
   "name": "python",
   "nbconvert_exporter": "python",
   "pygments_lexer": "ipython3",
   "version": "3.5.2"
  }
 },
 "nbformat": 4,
 "nbformat_minor": 2
}
