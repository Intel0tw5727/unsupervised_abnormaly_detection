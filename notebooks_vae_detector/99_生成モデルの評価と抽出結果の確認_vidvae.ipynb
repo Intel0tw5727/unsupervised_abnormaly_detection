{
 "cells": [
  {
   "cell_type": "markdown",
   "metadata": {},
   "source": [
    "## モジュールのインポート"
   ]
  },
  {
   "cell_type": "code",
   "execution_count": 1,
   "metadata": {},
   "outputs": [
    {
     "name": "stderr",
     "output_type": "stream",
     "text": [
      "Using TensorFlow backend.\n"
     ]
    }
   ],
   "source": [
    "import cv2\n",
    "import numpy as np\n",
    "import matplotlib.pyplot as plt\n",
    "%matplotlib inline\n",
    "from keras.datasets import mnist\n",
    "from keras.layers import Input, Dense, Layer, BatchNormalization, Dropout, RepeatVector\n",
    "from keras.layers import Lambda, Conv2D, Flatten, MaxPooling2D\n",
    "from keras.layers import Reshape, Conv2DTranspose, UpSampling2D, TimeDistributed\n",
    "from keras.layers.convolutional import Conv3D\n",
    "from keras.layers.convolutional_recurrent import ConvLSTM2D\n",
    "from keras.models import Model, model_from_json\n",
    "from keras import backend as K\n",
    "#from keras import objectives\n",
    "from keras.losses import binary_crossentropy\n",
    "from keras.callbacks import TensorBoard, EarlyStopping, ModelCheckpoint, Callback\n",
    "import tensorflow as tf\n",
    "from scipy.stats import norm\n",
    "from sklearn.model_selection import train_test_split\n",
    "\n",
    "from glob import glob\n",
    "from multiprocessing import Pool\n",
    "import multiprocessing as mp\n",
    "from tqdm import tqdm_notebook as tqdm\n",
    "from time import time\n",
    "import datetime\n",
    "import os"
   ]
  },
  {
   "cell_type": "markdown",
   "metadata": {},
   "source": [
    "## モデルの読み込み"
   ]
  },
  {
   "cell_type": "code",
   "execution_count": 16,
   "metadata": {},
   "outputs": [
    {
     "name": "stdout",
     "output_type": "stream",
     "text": [
      "abnorm1.gif\r\n",
      "abnorm2.gif\r\n",
      "abnorm3.gif\r\n",
      "conv_vae_best_param_20190106_151624.hdf5\r\n",
      "conv_vae_best_param_20190107_045912.hdf5\r\n",
      "conv_vae_best_param_20190107_074233.hdf5\r\n",
      "conv_vae_best_param.hdf5\r\n",
      "conv_vae_decoder_20190107_045912.json\r\n",
      "conv_vae_decoder_20190107_073111.json\r\n",
      "conv_vae_decoder_20190107_074233.json\r\n",
      "conv_vae_decoder_best_param_20190107_045912.hdf5\r\n",
      "conv_vae_decoder_best_param_20190107_074233.hdf5\r\n",
      "conv_vae_encoder_20190107_045912.json\r\n",
      "conv_vae_encoder_20190107_073111.json\r\n",
      "conv_vae_encoder_20190107_074233.json\r\n",
      "conv_vae_encoder_best_param_20190107_045912.hdf5\r\n",
      "conv_vae_encoder_best_param_20190107_074233.hdf5\r\n",
      "conv_vae_init_param_20190106_141204.hdf5\r\n",
      "conv_vae_init_param_20190106_142228.hdf5\r\n",
      "conv_vae_init_param_20190106_142904.hdf5\r\n",
      "conv_vae_init_param_20190106_151624.hdf5\r\n",
      "conv_vae_init_param_20190107_045912.hdf5\r\n",
      "conv_vae_init_param_20190107_074233.hdf5\r\n",
      "conv_vae_model_20190106_141204.json\r\n",
      "conv_vae_model_20190106_142228.json\r\n",
      "conv_vae_model_20190106_142904.json\r\n",
      "conv_vae_model_20190106_151624.json\r\n",
      "conv_vae_model_20190107_045912.json\r\n",
      "conv_vae_model_20190107_074233.json\r\n",
      "img_orig_mean.png\r\n",
      "img_skel_mean_AbemaTV_Tournament_Final1.png\r\n",
      "img_skel_mean_AbemaTV_Tournament_Final2.png\r\n",
      "img_skel_mean_AbemaTV_Tournament_Final3.png\r\n",
      "img_skel_mean.png\r\n",
      "output.mp4\r\n",
      "output.tar.gz\r\n",
      "pose_data_frameAbemaTV_Tournament_Final1_supervised.csv\r\n",
      "vae_best_param_20181221_075734.hdf5\r\n",
      "vae_best_param_20181221_082602.hdf5\r\n",
      "vae_best_param_20181221_134301.hdf5\r\n",
      "vae_best_param_20181221_134948.hdf5\r\n",
      "vae_best_param_20181221_140358.hdf5\r\n",
      "vae_best_param_20181221_153735.hdf5\r\n",
      "vae_best_param_20181222_084952.hdf5\r\n",
      "vae_best_param_20181222_091019.hdf5\r\n",
      "vae_best_param_20181222_092138.hdf5\r\n",
      "vae_best_param_20190105_104432.hdf5\r\n",
      "vae_best_param.hdf5\r\n",
      "vae_best_param_size64_20181223_094649.hdf5\r\n",
      "vae_init_param_20181223_094013.hdf5\r\n",
      "vae_init_param_20181223_094649.hdf5\r\n",
      "vae_init_param_20181223_122610.hdf5\r\n",
      "vae_init_param_20181223_123405.hdf5\r\n",
      "vae_init_param_20181223_124429.hdf5\r\n",
      "vae_init_param_20181223_125535.hdf5\r\n",
      "vae_init_param_20190105_104432.hdf5\r\n",
      "vae_model_20181223_094649.json\r\n",
      "vae_model_20181223_141945.json\r\n",
      "vae_model_20190105_104432.json\r\n",
      "vae_v2_best_param_20181221_073914.hdf5\r\n",
      "vae_v2_best_param.hdf5\r\n",
      "vae_v2_init_param_20181221_073914.hdf5\r\n",
      "vae_v2_init_param_20181221_075734.hdf5\r\n",
      "vae_v2_init_param_20181221_082602.hdf5\r\n",
      "vae_v2_init_param_20181221_134301.hdf5\r\n",
      "vae_v2_init_param_20181221_134948.hdf5\r\n",
      "vae_v2_init_param_20181221_135439.hdf5\r\n",
      "vae_v2_init_param_20181221_135602.hdf5\r\n",
      "vae_v2_init_param_20181221_135944.hdf5\r\n",
      "vae_v2_init_param_20181221_140358.hdf5\r\n",
      "vae_v2_init_param_20181221_153735.hdf5\r\n",
      "vae_v2_init_param_20181222_083553.hdf5\r\n",
      "vae_v2_init_param_20181222_084645.hdf5\r\n",
      "vae_v2_init_param_20181222_084952.hdf5\r\n",
      "vae_v2_init_param_20181222_091019.hdf5\r\n",
      "vae_v2_init_param_20181222_092138.hdf5\r\n",
      "vae_v2_init_param.hdf5\r\n"
     ]
    }
   ],
   "source": [
    "!ls ../output"
   ]
  },
  {
   "cell_type": "code",
   "execution_count": 6,
   "metadata": {},
   "outputs": [],
   "source": [
    "with open(\"../output/\") as f:\n",
    "    json_string = f.readline()"
   ]
  },
  {
   "cell_type": "code",
   "execution_count": 7,
   "metadata": {},
   "outputs": [],
   "source": [
    "model = model_from_json(json_string)\n",
    "model.load_weights(\"../output/conv_vae_best_param_20190107_074233.hdf5\")"
   ]
  },
  {
   "cell_type": "markdown",
   "metadata": {},
   "source": [
    "## データの前処理"
   ]
  },
  {
   "cell_type": "code",
   "execution_count": 8,
   "metadata": {},
   "outputs": [
    {
     "name": "stdout",
     "output_type": "stream",
     "text": [
      "AbemaTV_Tournament_Final1\t fujii_vs_kondo_Ablock_2_2_1080p\r\n",
      "AbemaTV_Tournament_Final2\t fujii_vs_takami_semi_1_1080p\r\n",
      "AbemaTV_Tournament_Final3\t fujii_vs_takami_semi_2_1080p\r\n",
      "fujii_vs_kondo_Ablock_1_1080p\t fujii_vs_takami_semi_3_1080p\r\n",
      "fujii_vs_kondo_Ablock_2_1_1080p\r\n"
     ]
    }
   ],
   "source": [
    "!ls ../data/shogi_pose_dataset/"
   ]
  },
  {
   "cell_type": "code",
   "execution_count": 9,
   "metadata": {},
   "outputs": [],
   "source": [
    "#dirs_path = sorted(glob(\"../data/shogi_pose_dataset/AbemaTV_Tournament_Final*\"))\n",
    "data_path = sorted(glob(\"../data/shogi_pose_dataset/AbemaTV_Tournament_Final3/*\"))"
   ]
  },
  {
   "cell_type": "code",
   "execution_count": 10,
   "metadata": {},
   "outputs": [],
   "source": [
    "def read_img(path):\n",
    "    cv2.setNumThreads(0)\n",
    "    img = cv2.imread(path, 0)\n",
    "    size = 32\n",
    "    \n",
    "    \n",
    "    # openposeのミスをできるだけ前処理で落とす\n",
    "    try:\n",
    "        x, w, y, h = trimming(img)\n",
    "        margin = 16\n",
    "        img_trim = img[y-margin:h+margin, x-margin:w+margin]\n",
    "        height, width = img_trim.shape\n",
    "        \n",
    "        if (height < 150) or (width < 150):\n",
    "            return np.zeros((size, size))\n",
    "        \n",
    "        # 膨張処理\n",
    "        kernel = np.ones((6,6),np.uint8)\n",
    "        img_trim = cv2.bitwise_not(img_trim) # 白(255)を膨張させるため反転\n",
    "        img_dil = cv2.dilate(img_trim,kernel,iterations = 1)\n",
    "        \n",
    "        img_dil = cv2.resize(img_dil, (size, size))\n",
    "        \n",
    "        # 2値化\n",
    "        _,img_bin = cv2.threshold(img_dil,0,1,cv2.THRESH_BINARY)\n",
    "        \n",
    "        return img_bin * 255.0\n",
    "    except:\n",
    "        return np.zeros((size, size))"
   ]
  },
  {
   "cell_type": "code",
   "execution_count": 11,
   "metadata": {},
   "outputs": [],
   "source": [
    "def trimming(img):\n",
    "    mask = img < 255\n",
    "    x = np.where(np.sum(mask, axis=0) > 1)[0]\n",
    "    y = np.where(np.sum(mask, axis=1) > 1)[0]\n",
    "    \n",
    "    x_min, x_max = x[0], x[-1]\n",
    "    y_min, y_max = y[0], y[-1]\n",
    "    return x_min, x_max, y_min, y_max"
   ]
  },
  {
   "cell_type": "code",
   "execution_count": 12,
   "metadata": {},
   "outputs": [
    {
     "data": {
      "application/vnd.jupyter.widget-view+json": {
       "model_id": "c35949ab201a412cb266e455f96b423b",
       "version_major": 2,
       "version_minor": 0
      },
      "text/plain": [
       "HBox(children=(IntProgress(value=0, max=11477), HTML(value='')))"
      ]
     },
     "metadata": {},
     "output_type": "display_data"
    },
    {
     "data": {
      "application/vnd.jupyter.widget-view+json": {
       "model_id": "b8361034230a42ac9efc4db18cb5f0be",
       "version_major": 2,
       "version_minor": 0
      },
      "text/plain": [
       "HBox(children=(IntProgress(value=1, bar_style='info', max=1), HTML(value='')))"
      ]
     },
     "metadata": {},
     "output_type": "display_data"
    },
    {
     "name": "stdout",
     "output_type": "stream",
     "text": [
      "\n"
     ]
    }
   ],
   "source": [
    "imgs = []\n",
    "with tqdm(total=len(data_path)) as pbar:\n",
    "    with Pool(mp.cpu_count()) as p:\n",
    "        for img in tqdm(p.imap_unordered(read_img, data_path)):\n",
    "            imgs.append(img)\n",
    "            pbar.update()"
   ]
  },
  {
   "cell_type": "markdown",
   "metadata": {},
   "source": [
    "### 画像を4フレームごとに分割\n",
    "- 4フレーム(1秒)のデータを5フレームごとにスライドしてデータを作成する。"
   ]
  },
  {
   "cell_type": "code",
   "execution_count": 13,
   "metadata": {},
   "outputs": [
    {
     "data": {
      "application/vnd.jupyter.widget-view+json": {
       "model_id": "a6ac37564ae845f18fd0b59b4922ff00",
       "version_major": 2,
       "version_minor": 0
      },
      "text/plain": [
       "HBox(children=(IntProgress(value=0, max=2294), HTML(value='')))"
      ]
     },
     "metadata": {},
     "output_type": "display_data"
    },
    {
     "name": "stdout",
     "output_type": "stream",
     "text": [
      "\n"
     ]
    }
   ],
   "source": [
    "stride = 5\n",
    "time = 5\n",
    "\n",
    "vids = []\n",
    "for idx in tqdm(range((len(imgs) // 5) - 1)):\n",
    "    vids.append(np.array(imgs[idx * stride: time + idx * stride]))"
   ]
  },
  {
   "cell_type": "code",
   "execution_count": 14,
   "metadata": {},
   "outputs": [
    {
     "name": "stdout",
     "output_type": "stream",
     "text": [
      "(10, 5, 32, 32, 1)\n"
     ]
    }
   ],
   "source": [
    "vids_num, time, height, width = np.array(vids).shape\n",
    "\n",
    "vids = np.array(vids).reshape(vids_num, time, height, width, 1)[:10]\n",
    "\n",
    "print(vids.shape)"
   ]
  },
  {
   "cell_type": "markdown",
   "metadata": {},
   "source": [
    "## モデルによる生成"
   ]
  },
  {
   "cell_type": "code",
   "execution_count": 15,
   "metadata": {},
   "outputs": [
    {
     "ename": "ValueError",
     "evalue": "Error when checking input: expected input_1 to have 4 dimensions, but got array with shape (10, 5, 32, 32, 1)",
     "output_type": "error",
     "traceback": [
      "\u001b[0;31m---------------------------------------------------------------------------\u001b[0m",
      "\u001b[0;31mValueError\u001b[0m                                Traceback (most recent call last)",
      "\u001b[0;32m<ipython-input-15-58df2eb69a8b>\u001b[0m in \u001b[0;36m<module>\u001b[0;34m\u001b[0m\n\u001b[0;32m----> 1\u001b[0;31m \u001b[0mvids_pred\u001b[0m \u001b[0;34m=\u001b[0m \u001b[0mmodel\u001b[0m\u001b[0;34m.\u001b[0m\u001b[0mpredict\u001b[0m\u001b[0;34m(\u001b[0m\u001b[0mvids\u001b[0m\u001b[0;34m)\u001b[0m\u001b[0;34m\u001b[0m\u001b[0m\n\u001b[0m",
      "\u001b[0;32m~/.pyenv/versions/3.5.2/lib/python3.5/site-packages/keras/engine/training.py\u001b[0m in \u001b[0;36mpredict\u001b[0;34m(self, x, batch_size, verbose, steps)\u001b[0m\n\u001b[1;32m   1147\u001b[0m                              'argument.')\n\u001b[1;32m   1148\u001b[0m         \u001b[0;31m# Validate user data.\u001b[0m\u001b[0;34m\u001b[0m\u001b[0;34m\u001b[0m\u001b[0m\n\u001b[0;32m-> 1149\u001b[0;31m         \u001b[0mx\u001b[0m\u001b[0;34m,\u001b[0m \u001b[0m_\u001b[0m\u001b[0;34m,\u001b[0m \u001b[0m_\u001b[0m \u001b[0;34m=\u001b[0m \u001b[0mself\u001b[0m\u001b[0;34m.\u001b[0m\u001b[0m_standardize_user_data\u001b[0m\u001b[0;34m(\u001b[0m\u001b[0mx\u001b[0m\u001b[0;34m)\u001b[0m\u001b[0;34m\u001b[0m\u001b[0m\n\u001b[0m\u001b[1;32m   1150\u001b[0m         \u001b[0;32mif\u001b[0m \u001b[0mself\u001b[0m\u001b[0;34m.\u001b[0m\u001b[0mstateful\u001b[0m\u001b[0;34m:\u001b[0m\u001b[0;34m\u001b[0m\u001b[0m\n\u001b[1;32m   1151\u001b[0m             \u001b[0;32mif\u001b[0m \u001b[0mx\u001b[0m\u001b[0;34m[\u001b[0m\u001b[0;36m0\u001b[0m\u001b[0;34m]\u001b[0m\u001b[0;34m.\u001b[0m\u001b[0mshape\u001b[0m\u001b[0;34m[\u001b[0m\u001b[0;36m0\u001b[0m\u001b[0;34m]\u001b[0m \u001b[0;34m>\u001b[0m \u001b[0mbatch_size\u001b[0m \u001b[0;32mand\u001b[0m \u001b[0mx\u001b[0m\u001b[0;34m[\u001b[0m\u001b[0;36m0\u001b[0m\u001b[0;34m]\u001b[0m\u001b[0;34m.\u001b[0m\u001b[0mshape\u001b[0m\u001b[0;34m[\u001b[0m\u001b[0;36m0\u001b[0m\u001b[0;34m]\u001b[0m \u001b[0;34m%\u001b[0m \u001b[0mbatch_size\u001b[0m \u001b[0;34m!=\u001b[0m \u001b[0;36m0\u001b[0m\u001b[0;34m:\u001b[0m\u001b[0;34m\u001b[0m\u001b[0m\n",
      "\u001b[0;32m~/.pyenv/versions/3.5.2/lib/python3.5/site-packages/keras/engine/training.py\u001b[0m in \u001b[0;36m_standardize_user_data\u001b[0;34m(self, x, y, sample_weight, class_weight, check_array_lengths, batch_size)\u001b[0m\n\u001b[1;32m    749\u001b[0m             \u001b[0mfeed_input_shapes\u001b[0m\u001b[0;34m,\u001b[0m\u001b[0;34m\u001b[0m\u001b[0m\n\u001b[1;32m    750\u001b[0m             \u001b[0mcheck_batch_axis\u001b[0m\u001b[0;34m=\u001b[0m\u001b[0;32mFalse\u001b[0m\u001b[0;34m,\u001b[0m  \u001b[0;31m# Don't enforce the batch size.\u001b[0m\u001b[0;34m\u001b[0m\u001b[0m\n\u001b[0;32m--> 751\u001b[0;31m             exception_prefix='input')\n\u001b[0m\u001b[1;32m    752\u001b[0m \u001b[0;34m\u001b[0m\u001b[0m\n\u001b[1;32m    753\u001b[0m         \u001b[0;32mif\u001b[0m \u001b[0my\u001b[0m \u001b[0;32mis\u001b[0m \u001b[0;32mnot\u001b[0m \u001b[0;32mNone\u001b[0m\u001b[0;34m:\u001b[0m\u001b[0;34m\u001b[0m\u001b[0m\n",
      "\u001b[0;32m~/.pyenv/versions/3.5.2/lib/python3.5/site-packages/keras/engine/training_utils.py\u001b[0m in \u001b[0;36mstandardize_input_data\u001b[0;34m(data, names, shapes, check_batch_axis, exception_prefix)\u001b[0m\n\u001b[1;32m    126\u001b[0m                         \u001b[0;34m': expected '\u001b[0m \u001b[0;34m+\u001b[0m \u001b[0mnames\u001b[0m\u001b[0;34m[\u001b[0m\u001b[0mi\u001b[0m\u001b[0;34m]\u001b[0m \u001b[0;34m+\u001b[0m \u001b[0;34m' to have '\u001b[0m \u001b[0;34m+\u001b[0m\u001b[0;34m\u001b[0m\u001b[0m\n\u001b[1;32m    127\u001b[0m                         \u001b[0mstr\u001b[0m\u001b[0;34m(\u001b[0m\u001b[0mlen\u001b[0m\u001b[0;34m(\u001b[0m\u001b[0mshape\u001b[0m\u001b[0;34m)\u001b[0m\u001b[0;34m)\u001b[0m \u001b[0;34m+\u001b[0m \u001b[0;34m' dimensions, but got array '\u001b[0m\u001b[0;34m\u001b[0m\u001b[0m\n\u001b[0;32m--> 128\u001b[0;31m                         'with shape ' + str(data_shape))\n\u001b[0m\u001b[1;32m    129\u001b[0m                 \u001b[0;32mif\u001b[0m \u001b[0;32mnot\u001b[0m \u001b[0mcheck_batch_axis\u001b[0m\u001b[0;34m:\u001b[0m\u001b[0;34m\u001b[0m\u001b[0m\n\u001b[1;32m    130\u001b[0m                     \u001b[0mdata_shape\u001b[0m \u001b[0;34m=\u001b[0m \u001b[0mdata_shape\u001b[0m\u001b[0;34m[\u001b[0m\u001b[0;36m1\u001b[0m\u001b[0;34m:\u001b[0m\u001b[0;34m]\u001b[0m\u001b[0;34m\u001b[0m\u001b[0m\n",
      "\u001b[0;31mValueError\u001b[0m: Error when checking input: expected input_1 to have 4 dimensions, but got array with shape (10, 5, 32, 32, 1)"
     ]
    }
   ],
   "source": [
    "vids_pred = model.predict(vids)"
   ]
  },
  {
   "cell_type": "code",
   "execution_count": 26,
   "metadata": {},
   "outputs": [],
   "source": [
    "v_show = vids[5].reshape(5,32,32)\n",
    "p_show = vids_pred[5].reshape(5,32,32)"
   ]
  },
  {
   "cell_type": "code",
   "execution_count": 27,
   "metadata": {},
   "outputs": [
    {
     "data": {
      "image/png": "[encoded data removed]",
      "text/plain": [
       "<Figure size 1296x720 with 5 Axes>"
      ]
     },
     "metadata": {
      "needs_background": "light"
     },
     "output_type": "display_data"
    }
   ],
   "source": [
    "fig, ax = plt.subplots(ncols=5, figsize=(18,10))\n",
    "for i in range(5):\n",
    "    ax[i].imshow(v_show[i])\n",
    "plt.show()"
   ]
  },
  {
   "cell_type": "code",
   "execution_count": 28,
   "metadata": {},
   "outputs": [
    {
     "data": {
      "image/png": "[encoded data removed]",
      "text/plain": [
       "<Figure size 1296x720 with 5 Axes>"
      ]
     },
     "metadata": {
      "needs_background": "light"
     },
     "output_type": "display_data"
    }
   ],
   "source": [
    "fig, ax = plt.subplots(ncols=5, figsize=(18,10))\n",
    "for i in range(5):\n",
    "    ax[i].imshow(p_show[i])\n",
    "plt.show()"
   ]
  },
  {
   "cell_type": "code",
   "execution_count": 29,
   "metadata": {},
   "outputs": [
    {
     "data": {
      "image/png": "[encoded data removed]",
      "text/plain": [
       "<Figure size 1296x720 with 5 Axes>"
      ]
     },
     "metadata": {
      "needs_background": "light"
     },
     "output_type": "display_data"
    }
   ],
   "source": [
    "fig, ax = plt.subplots(ncols=5, figsize=(18,10))\n",
    "for i in range(5):\n",
    "    _, img = cv2.threshold(p_show[i], 0, 1, cv2.THRESH_BINARY)\n",
    "    ax[i].imshow(img)\n",
    "plt.show()"
   ]
  },
  {
   "cell_type": "code",
   "execution_count": null,
   "metadata": {},
   "outputs": [],
   "source": []
  }
 ],
 "metadata": {
  "kernelspec": {
   "display_name": "Python 3",
   "language": "python",
   "name": "python3"
  },
  "language_info": {
   "codemirror_mode": {
    "name": "ipython",
    "version": 3
   },
   "file_extension": ".py",
   "mimetype": "text/x-python",
   "name": "python",
   "nbconvert_exporter": "python",
   "pygments_lexer": "ipython3",
   "version": "3.5.2"
  }
 },
 "nbformat": 4,
 "nbformat_minor": 2
}
