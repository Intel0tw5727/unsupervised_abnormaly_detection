{
 "cells": [
  {
   "cell_type": "code",
   "execution_count": 28,
   "metadata": {},
   "outputs": [
    {
     "name": "stdout",
     "output_type": "stream",
     "text": [
      "The autoreload extension is already loaded. To reload it, use:\n",
      "  %reload_ext autoreload\n"
     ]
    }
   ],
   "source": [
    "%load_ext autoreload\n",
    "%autoreload 2"
   ]
  },
  {
   "cell_type": "code",
   "execution_count": 29,
   "metadata": {},
   "outputs": [],
   "source": [
    "import pandas as pd\n",
    "import numpy as np\n",
    "import cv2\n",
    "import matplotlib.pyplot as plt\n",
    "%matplotlib inline\n",
    "plt.style.use(\"ggplot\")\n",
    "from tqdm import tqdm_notebook as tqdm\n",
    "import os\n",
    "\n",
    "import sys\n",
    "sys.path.append(\"../\")\n",
    "from utils.datasets import DataSets\n",
    "\n",
    "from sklearn.model_selection import train_test_split\n",
    "from sklearn.ensemble import RandomForestClassifier\n",
    "from sklearn.metrics import accuracy_score, confusion_matrix"
   ]
  },
  {
   "cell_type": "code",
   "execution_count": 3,
   "metadata": {},
   "outputs": [],
   "source": [
    "client = DataSets(\"10.10.5.71\", \"nvidia\", \"/home/nvidia/.ssh/endolab-jetson-tx2-n2\")"
   ]
  },
  {
   "cell_type": "code",
   "execution_count": 5,
   "metadata": {},
   "outputs": [],
   "source": [
    "p1_df = client.read_csv(\"/media/nvidia/EndoLab-3TB/s.tawada/Research/output/player1_features_v3.csv\", index_col=0)\n",
    "p2_df = client.read_csv(\"/media/nvidia/EndoLab-3TB/s.tawada/Research/output/player2_features_v3.csv\", index_col=0)"
   ]
  },
  {
   "cell_type": "code",
   "execution_count": 30,
   "metadata": {},
   "outputs": [],
   "source": [
    "p1_df = pd.read_csv(\"/media/nvidia/ST_SD16G/Research/output/player1_features_frame6_v3.csv\", index_col=0)\n",
    "p2_df = pd.read_csv(\"/media/nvidia/ST_SD16G/Research/output/player2_features_frame6_v3.csv\", index_col=0)"
   ]
  },
  {
   "cell_type": "markdown",
   "metadata": {},
   "source": [
    "## 抽出データの俯瞰"
   ]
  },
  {
   "cell_type": "code",
   "execution_count": 31,
   "metadata": {},
   "outputs": [
    {
     "data": {
      "text/html": [
       "<div>\n",
       "<style scoped>\n",
       "    .dataframe tbody tr th:only-of-type {\n",
       "        vertical-align: middle;\n",
       "    }\n",
       "\n",
       "    .dataframe tbody tr th {\n",
       "        vertical-align: top;\n",
       "    }\n",
       "\n",
       "    .dataframe thead th {\n",
       "        text-align: right;\n",
       "    }\n",
       "</style>\n",
       "<table border=\"1\" class=\"dataframe\">\n",
       "  <thead>\n",
       "    <tr style=\"text-align: right;\">\n",
       "      <th></th>\n",
       "      <th>Nose_x</th>\n",
       "      <th>Nose_y</th>\n",
       "      <th>Nose_z</th>\n",
       "      <th>Neck_x</th>\n",
       "      <th>Neck_y</th>\n",
       "      <th>Neck_z</th>\n",
       "      <th>RShoulder_x</th>\n",
       "      <th>RShoulder_y</th>\n",
       "      <th>RShoulder_z</th>\n",
       "      <th>RElbow_x</th>\n",
       "      <th>...</th>\n",
       "      <th>LElbow_y</th>\n",
       "      <th>LElbow_z</th>\n",
       "      <th>REye_x</th>\n",
       "      <th>REye_y</th>\n",
       "      <th>REye_z</th>\n",
       "      <th>LEye_x</th>\n",
       "      <th>LEye_y</th>\n",
       "      <th>LEye_z</th>\n",
       "      <th>is_player</th>\n",
       "      <th>apery_eval</th>\n",
       "    </tr>\n",
       "  </thead>\n",
       "  <tbody>\n",
       "    <tr>\n",
       "      <th>count</th>\n",
       "      <td>12446.000000</td>\n",
       "      <td>12446.000000</td>\n",
       "      <td>12446.000000</td>\n",
       "      <td>12446.000000</td>\n",
       "      <td>12446.000000</td>\n",
       "      <td>12446.000000</td>\n",
       "      <td>12446.000000</td>\n",
       "      <td>12446.000000</td>\n",
       "      <td>12446.000000</td>\n",
       "      <td>12446.000000</td>\n",
       "      <td>...</td>\n",
       "      <td>12446.000000</td>\n",
       "      <td>12446.000000</td>\n",
       "      <td>12446.000000</td>\n",
       "      <td>12446.000000</td>\n",
       "      <td>12446.000000</td>\n",
       "      <td>12446.000000</td>\n",
       "      <td>12446.000000</td>\n",
       "      <td>12446.000000</td>\n",
       "      <td>12446.000000</td>\n",
       "      <td>12446.000000</td>\n",
       "    </tr>\n",
       "    <tr>\n",
       "      <th>mean</th>\n",
       "      <td>926.029283</td>\n",
       "      <td>301.374389</td>\n",
       "      <td>0.897929</td>\n",
       "      <td>947.705866</td>\n",
       "      <td>315.369951</td>\n",
       "      <td>0.850654</td>\n",
       "      <td>891.443281</td>\n",
       "      <td>312.443874</td>\n",
       "      <td>0.822979</td>\n",
       "      <td>882.088511</td>\n",
       "      <td>...</td>\n",
       "      <td>412.633115</td>\n",
       "      <td>0.560270</td>\n",
       "      <td>938.843869</td>\n",
       "      <td>287.792909</td>\n",
       "      <td>0.899533</td>\n",
       "      <td>167.078615</td>\n",
       "      <td>112.274134</td>\n",
       "      <td>0.140931</td>\n",
       "      <td>0.490117</td>\n",
       "      <td>4964.070464</td>\n",
       "    </tr>\n",
       "    <tr>\n",
       "      <th>std</th>\n",
       "      <td>299.674322</td>\n",
       "      <td>107.686960</td>\n",
       "      <td>0.044753</td>\n",
       "      <td>326.706774</td>\n",
       "      <td>104.904469</td>\n",
       "      <td>0.039129</td>\n",
       "      <td>324.629180</td>\n",
       "      <td>106.254402</td>\n",
       "      <td>0.051849</td>\n",
       "      <td>343.141477</td>\n",
       "      <td>...</td>\n",
       "      <td>95.180241</td>\n",
       "      <td>0.098576</td>\n",
       "      <td>301.209518</td>\n",
       "      <td>108.054970</td>\n",
       "      <td>0.059424</td>\n",
       "      <td>346.361179</td>\n",
       "      <td>193.073050</td>\n",
       "      <td>0.299603</td>\n",
       "      <td>0.499922</td>\n",
       "      <td>20947.832305</td>\n",
       "    </tr>\n",
       "    <tr>\n",
       "      <th>min</th>\n",
       "      <td>114.163185</td>\n",
       "      <td>200.323840</td>\n",
       "      <td>0.431985</td>\n",
       "      <td>88.655360</td>\n",
       "      <td>229.760570</td>\n",
       "      <td>0.627392</td>\n",
       "      <td>33.811974</td>\n",
       "      <td>217.945620</td>\n",
       "      <td>0.526458</td>\n",
       "      <td>0.000000</td>\n",
       "      <td>...</td>\n",
       "      <td>0.000000</td>\n",
       "      <td>0.000000</td>\n",
       "      <td>125.913510</td>\n",
       "      <td>190.570430</td>\n",
       "      <td>0.209783</td>\n",
       "      <td>0.000000</td>\n",
       "      <td>0.000000</td>\n",
       "      <td>0.000000</td>\n",
       "      <td>0.000000</td>\n",
       "      <td>-618.000000</td>\n",
       "    </tr>\n",
       "    <tr>\n",
       "      <th>25%</th>\n",
       "      <td>1042.687725</td>\n",
       "      <td>253.250900</td>\n",
       "      <td>0.871586</td>\n",
       "      <td>1078.006325</td>\n",
       "      <td>268.870828</td>\n",
       "      <td>0.832512</td>\n",
       "      <td>1025.094575</td>\n",
       "      <td>264.990860</td>\n",
       "      <td>0.809693</td>\n",
       "      <td>1027.112900</td>\n",
       "      <td>...</td>\n",
       "      <td>368.860155</td>\n",
       "      <td>0.526939</td>\n",
       "      <td>1056.382850</td>\n",
       "      <td>239.531332</td>\n",
       "      <td>0.872803</td>\n",
       "      <td>0.000000</td>\n",
       "      <td>0.000000</td>\n",
       "      <td>0.000000</td>\n",
       "      <td>0.000000</td>\n",
       "      <td>-32.000000</td>\n",
       "    </tr>\n",
       "    <tr>\n",
       "      <th>50%</th>\n",
       "      <td>1056.403550</td>\n",
       "      <td>257.104520</td>\n",
       "      <td>0.896109</td>\n",
       "      <td>1087.888750</td>\n",
       "      <td>270.841250</td>\n",
       "      <td>0.856231</td>\n",
       "      <td>1029.055450</td>\n",
       "      <td>268.893180</td>\n",
       "      <td>0.829841</td>\n",
       "      <td>1030.964500</td>\n",
       "      <td>...</td>\n",
       "      <td>374.679260</td>\n",
       "      <td>0.554487</td>\n",
       "      <td>1070.144700</td>\n",
       "      <td>241.505305</td>\n",
       "      <td>0.904099</td>\n",
       "      <td>0.000000</td>\n",
       "      <td>0.000000</td>\n",
       "      <td>0.000000</td>\n",
       "      <td>0.000000</td>\n",
       "      <td>172.000000</td>\n",
       "    </tr>\n",
       "    <tr>\n",
       "      <th>75%</th>\n",
       "      <td>1058.437850</td>\n",
       "      <td>261.120420</td>\n",
       "      <td>0.927952</td>\n",
       "      <td>1089.857700</td>\n",
       "      <td>274.869100</td>\n",
       "      <td>0.876465</td>\n",
       "      <td>1032.989400</td>\n",
       "      <td>272.838300</td>\n",
       "      <td>0.855151</td>\n",
       "      <td>1036.882800</td>\n",
       "      <td>...</td>\n",
       "      <td>382.587693</td>\n",
       "      <td>0.579505</td>\n",
       "      <td>1074.013500</td>\n",
       "      <td>253.180035</td>\n",
       "      <td>0.937878</td>\n",
       "      <td>178.847760</td>\n",
       "      <td>225.826095</td>\n",
       "      <td>0.057710</td>\n",
       "      <td>1.000000</td>\n",
       "      <td>395.000000</td>\n",
       "    </tr>\n",
       "    <tr>\n",
       "      <th>max</th>\n",
       "      <td>1134.846400</td>\n",
       "      <td>617.679300</td>\n",
       "      <td>1.024411</td>\n",
       "      <td>1150.459100</td>\n",
       "      <td>599.990600</td>\n",
       "      <td>0.945832</td>\n",
       "      <td>1091.789100</td>\n",
       "      <td>594.136350</td>\n",
       "      <td>0.950439</td>\n",
       "      <td>1079.950700</td>\n",
       "      <td>...</td>\n",
       "      <td>668.607670</td>\n",
       "      <td>0.934291</td>\n",
       "      <td>1150.538600</td>\n",
       "      <td>603.927250</td>\n",
       "      <td>1.032271</td>\n",
       "      <td>1119.127900</td>\n",
       "      <td>586.300000</td>\n",
       "      <td>0.964393</td>\n",
       "      <td>1.000000</td>\n",
       "      <td>99999.000000</td>\n",
       "    </tr>\n",
       "  </tbody>\n",
       "</table>\n",
       "<p>8 rows × 26 columns</p>\n",
       "</div>"
      ],
      "text/plain": [
       "             Nose_x        Nose_y        Nose_z        Neck_x        Neck_y  \\\n",
       "count  12446.000000  12446.000000  12446.000000  12446.000000  12446.000000   \n",
       "mean     926.029283    301.374389      0.897929    947.705866    315.369951   \n",
       "std      299.674322    107.686960      0.044753    326.706774    104.904469   \n",
       "min      114.163185    200.323840      0.431985     88.655360    229.760570   \n",
       "25%     1042.687725    253.250900      0.871586   1078.006325    268.870828   \n",
       "50%     1056.403550    257.104520      0.896109   1087.888750    270.841250   \n",
       "75%     1058.437850    261.120420      0.927952   1089.857700    274.869100   \n",
       "max     1134.846400    617.679300      1.024411   1150.459100    599.990600   \n",
       "\n",
       "             Neck_z   RShoulder_x   RShoulder_y   RShoulder_z      RElbow_x  \\\n",
       "count  12446.000000  12446.000000  12446.000000  12446.000000  12446.000000   \n",
       "mean       0.850654    891.443281    312.443874      0.822979    882.088511   \n",
       "std        0.039129    324.629180    106.254402      0.051849    343.141477   \n",
       "min        0.627392     33.811974    217.945620      0.526458      0.000000   \n",
       "25%        0.832512   1025.094575    264.990860      0.809693   1027.112900   \n",
       "50%        0.856231   1029.055450    268.893180      0.829841   1030.964500   \n",
       "75%        0.876465   1032.989400    272.838300      0.855151   1036.882800   \n",
       "max        0.945832   1091.789100    594.136350      0.950439   1079.950700   \n",
       "\n",
       "           ...           LElbow_y      LElbow_z        REye_x        REye_y  \\\n",
       "count      ...       12446.000000  12446.000000  12446.000000  12446.000000   \n",
       "mean       ...         412.633115      0.560270    938.843869    287.792909   \n",
       "std        ...          95.180241      0.098576    301.209518    108.054970   \n",
       "min        ...           0.000000      0.000000    125.913510    190.570430   \n",
       "25%        ...         368.860155      0.526939   1056.382850    239.531332   \n",
       "50%        ...         374.679260      0.554487   1070.144700    241.505305   \n",
       "75%        ...         382.587693      0.579505   1074.013500    253.180035   \n",
       "max        ...         668.607670      0.934291   1150.538600    603.927250   \n",
       "\n",
       "             REye_z        LEye_x        LEye_y        LEye_z     is_player  \\\n",
       "count  12446.000000  12446.000000  12446.000000  12446.000000  12446.000000   \n",
       "mean       0.899533    167.078615    112.274134      0.140931      0.490117   \n",
       "std        0.059424    346.361179    193.073050      0.299603      0.499922   \n",
       "min        0.209783      0.000000      0.000000      0.000000      0.000000   \n",
       "25%        0.872803      0.000000      0.000000      0.000000      0.000000   \n",
       "50%        0.904099      0.000000      0.000000      0.000000      0.000000   \n",
       "75%        0.937878    178.847760    225.826095      0.057710      1.000000   \n",
       "max        1.032271   1119.127900    586.300000      0.964393      1.000000   \n",
       "\n",
       "         apery_eval  \n",
       "count  12446.000000  \n",
       "mean    4964.070464  \n",
       "std    20947.832305  \n",
       "min     -618.000000  \n",
       "25%      -32.000000  \n",
       "50%      172.000000  \n",
       "75%      395.000000  \n",
       "max    99999.000000  \n",
       "\n",
       "[8 rows x 26 columns]"
      ]
     },
     "execution_count": 31,
     "metadata": {},
     "output_type": "execute_result"
    }
   ],
   "source": [
    "p1_df.describe()"
   ]
  },
  {
   "cell_type": "markdown",
   "metadata": {},
   "source": [
    "確認してみて大きくハズレた値はなさげ。しっかりパーツを取れている。"
   ]
  },
  {
   "cell_type": "markdown",
   "metadata": {},
   "source": [
    "## 変化量を取る"
   ]
  },
  {
   "cell_type": "code",
   "execution_count": 32,
   "metadata": {},
   "outputs": [],
   "source": [
    "diff_p1_df = p1_df.diff()[1:]\n",
    "diff_p2_df = p2_df.diff()[1:]"
   ]
  },
  {
   "cell_type": "code",
   "execution_count": 37,
   "metadata": {},
   "outputs": [
    {
     "data": {
      "text/plain": [
       "<matplotlib.axes._subplots.AxesSubplot at 0x7f54256b70>"
      ]
     },
     "execution_count": 37,
     "metadata": {},
     "output_type": "execute_result"
    },
    {
     "data": {
      "image/png": "[encoded data removed]",
      "text/plain": [
       "<Figure size 432x288 with 1 Axes>"
      ]
     },
     "metadata": {},
     "output_type": "display_data"
    }
   ],
   "source": [
    "# 評価が大きく変わるタイミングを捉える\n",
    "p1_df.diff()[1:].apery_eval[:11000].plot()"
   ]
  },
  {
   "cell_type": "code",
   "execution_count": 38,
   "metadata": {},
   "outputs": [
    {
     "data": {
      "application/vnd.jupyter.widget-view+json": {
       "model_id": "f21039b6378d49f3aba05e3ef5846ea3",
       "version_major": 2,
       "version_minor": 0
      },
      "text/plain": [
       "HBox(children=(IntProgress(value=0, max=12445), HTML(value='')))"
      ]
     },
     "metadata": {},
     "output_type": "display_data"
    },
    {
     "name": "stdout",
     "output_type": "stream",
     "text": [
      "\n"
     ]
    }
   ],
   "source": [
    "tmp = 0\n",
    "diff_apery_eval = []\n",
    "\n",
    "for diff in tqdm(diff_p1_df.apery_eval.tolist()):\n",
    "    if (diff != 0) and (tmp != diff):\n",
    "            tmp = diff\n",
    "    diff_apery_eval.append(tmp)"
   ]
  },
  {
   "cell_type": "code",
   "execution_count": 39,
   "metadata": {},
   "outputs": [
    {
     "data": {
      "text/plain": [
       "<matplotlib.axes._subplots.AxesSubplot at 0x7f54127550>"
      ]
     },
     "execution_count": 39,
     "metadata": {},
     "output_type": "execute_result"
    },
    {
     "data": {
      "image/png": "[encoded data removed]",
      "text/plain": [
       "<Figure size 432x288 with 1 Axes>"
      ]
     },
     "metadata": {},
     "output_type": "display_data"
    }
   ],
   "source": [
    "# インパルスなdiffをなめらかに\n",
    "pd.Series(diff_apery_eval)[:11000].plot()"
   ]
  },
  {
   "cell_type": "code",
   "execution_count": 40,
   "metadata": {},
   "outputs": [],
   "source": [
    "diff_p1_df[\"apery_eval\"] = diff_apery_eval\n",
    "diff_p2_df[\"apery_eval\"] = diff_apery_eval"
   ]
  },
  {
   "cell_type": "code",
   "execution_count": 67,
   "metadata": {},
   "outputs": [
    {
     "data": {
      "text/html": [
       "<div>\n",
       "<style scoped>\n",
       "    .dataframe tbody tr th:only-of-type {\n",
       "        vertical-align: middle;\n",
       "    }\n",
       "\n",
       "    .dataframe tbody tr th {\n",
       "        vertical-align: top;\n",
       "    }\n",
       "\n",
       "    .dataframe thead th {\n",
       "        text-align: right;\n",
       "    }\n",
       "</style>\n",
       "<table border=\"1\" class=\"dataframe\">\n",
       "  <thead>\n",
       "    <tr style=\"text-align: right;\">\n",
       "      <th></th>\n",
       "      <th>LElbow_y</th>\n",
       "      <th>LElbow_z</th>\n",
       "      <th>REye_x</th>\n",
       "      <th>REye_y</th>\n",
       "      <th>REye_z</th>\n",
       "      <th>LEye_x</th>\n",
       "      <th>LEye_y</th>\n",
       "      <th>LEye_z</th>\n",
       "      <th>is_player</th>\n",
       "      <th>apery_eval</th>\n",
       "    </tr>\n",
       "  </thead>\n",
       "  <tbody>\n",
       "    <tr>\n",
       "      <th>1</th>\n",
       "      <td>-0.10208</td>\n",
       "      <td>0.003835</td>\n",
       "      <td>-0.0608</td>\n",
       "      <td>-0.01103</td>\n",
       "      <td>-0.007519</td>\n",
       "      <td>0.0</td>\n",
       "      <td>0.0</td>\n",
       "      <td>0.0</td>\n",
       "      <td>0.0</td>\n",
       "      <td>0.0</td>\n",
       "    </tr>\n",
       "    <tr>\n",
       "      <th>301</th>\n",
       "      <td>-0.01990</td>\n",
       "      <td>0.001501</td>\n",
       "      <td>-1.8795</td>\n",
       "      <td>-1.81138</td>\n",
       "      <td>0.001824</td>\n",
       "      <td>0.0</td>\n",
       "      <td>0.0</td>\n",
       "      <td>0.0</td>\n",
       "      <td>0.0</td>\n",
       "      <td>0.0</td>\n",
       "    </tr>\n",
       "    <tr>\n",
       "      <th>601</th>\n",
       "      <td>-0.00016</td>\n",
       "      <td>-0.024444</td>\n",
       "      <td>-0.0229</td>\n",
       "      <td>-0.02508</td>\n",
       "      <td>0.004061</td>\n",
       "      <td>0.0</td>\n",
       "      <td>0.0</td>\n",
       "      <td>0.0</td>\n",
       "      <td>0.0</td>\n",
       "      <td>25.0</td>\n",
       "    </tr>\n",
       "    <tr>\n",
       "      <th>901</th>\n",
       "      <td>-1.85119</td>\n",
       "      <td>-0.016209</td>\n",
       "      <td>-0.0044</td>\n",
       "      <td>0.00226</td>\n",
       "      <td>0.000268</td>\n",
       "      <td>0.0</td>\n",
       "      <td>0.0</td>\n",
       "      <td>0.0</td>\n",
       "      <td>0.0</td>\n",
       "      <td>-25.0</td>\n",
       "    </tr>\n",
       "    <tr>\n",
       "      <th>1201</th>\n",
       "      <td>0.04587</td>\n",
       "      <td>0.014164</td>\n",
       "      <td>-0.0044</td>\n",
       "      <td>0.00192</td>\n",
       "      <td>0.001727</td>\n",
       "      <td>0.0</td>\n",
       "      <td>0.0</td>\n",
       "      <td>0.0</td>\n",
       "      <td>0.0</td>\n",
       "      <td>12.0</td>\n",
       "    </tr>\n",
       "    <tr>\n",
       "      <th>1501</th>\n",
       "      <td>1.86572</td>\n",
       "      <td>0.001833</td>\n",
       "      <td>0.0210</td>\n",
       "      <td>-1.83669</td>\n",
       "      <td>-0.007834</td>\n",
       "      <td>0.0</td>\n",
       "      <td>0.0</td>\n",
       "      <td>0.0</td>\n",
       "      <td>0.0</td>\n",
       "      <td>68.0</td>\n",
       "    </tr>\n",
       "    <tr>\n",
       "      <th>1801</th>\n",
       "      <td>0.03810</td>\n",
       "      <td>-0.003819</td>\n",
       "      <td>-0.0143</td>\n",
       "      <td>0.01776</td>\n",
       "      <td>0.003888</td>\n",
       "      <td>0.0</td>\n",
       "      <td>0.0</td>\n",
       "      <td>0.0</td>\n",
       "      <td>0.0</td>\n",
       "      <td>4.0</td>\n",
       "    </tr>\n",
       "    <tr>\n",
       "      <th>2101</th>\n",
       "      <td>-0.01083</td>\n",
       "      <td>0.001887</td>\n",
       "      <td>0.0005</td>\n",
       "      <td>0.00120</td>\n",
       "      <td>0.000194</td>\n",
       "      <td>0.0</td>\n",
       "      <td>0.0</td>\n",
       "      <td>0.0</td>\n",
       "      <td>0.0</td>\n",
       "      <td>-81.0</td>\n",
       "    </tr>\n",
       "    <tr>\n",
       "      <th>2401</th>\n",
       "      <td>-0.01239</td>\n",
       "      <td>0.004867</td>\n",
       "      <td>-0.0059</td>\n",
       "      <td>-0.00378</td>\n",
       "      <td>-0.002512</td>\n",
       "      <td>0.0</td>\n",
       "      <td>0.0</td>\n",
       "      <td>0.0</td>\n",
       "      <td>0.0</td>\n",
       "      <td>-208.0</td>\n",
       "    </tr>\n",
       "    <tr>\n",
       "      <th>2701</th>\n",
       "      <td>1.93759</td>\n",
       "      <td>-0.005423</td>\n",
       "      <td>-0.0024</td>\n",
       "      <td>-0.00258</td>\n",
       "      <td>-0.004119</td>\n",
       "      <td>0.0</td>\n",
       "      <td>0.0</td>\n",
       "      <td>0.0</td>\n",
       "      <td>0.0</td>\n",
       "      <td>-69.0</td>\n",
       "    </tr>\n",
       "  </tbody>\n",
       "</table>\n",
       "</div>"
      ],
      "text/plain": [
       "      LElbow_y  LElbow_z  REye_x   REye_y    REye_z  LEye_x  LEye_y  LEye_z  \\\n",
       "1     -0.10208  0.003835 -0.0608 -0.01103 -0.007519     0.0     0.0     0.0   \n",
       "301   -0.01990  0.001501 -1.8795 -1.81138  0.001824     0.0     0.0     0.0   \n",
       "601   -0.00016 -0.024444 -0.0229 -0.02508  0.004061     0.0     0.0     0.0   \n",
       "901   -1.85119 -0.016209 -0.0044  0.00226  0.000268     0.0     0.0     0.0   \n",
       "1201   0.04587  0.014164 -0.0044  0.00192  0.001727     0.0     0.0     0.0   \n",
       "1501   1.86572  0.001833  0.0210 -1.83669 -0.007834     0.0     0.0     0.0   \n",
       "1801   0.03810 -0.003819 -0.0143  0.01776  0.003888     0.0     0.0     0.0   \n",
       "2101  -0.01083  0.001887  0.0005  0.00120  0.000194     0.0     0.0     0.0   \n",
       "2401  -0.01239  0.004867 -0.0059 -0.00378 -0.002512     0.0     0.0     0.0   \n",
       "2701   1.93759 -0.005423 -0.0024 -0.00258 -0.004119     0.0     0.0     0.0   \n",
       "\n",
       "      is_player  apery_eval  \n",
       "1           0.0         0.0  \n",
       "301         0.0         0.0  \n",
       "601         0.0        25.0  \n",
       "901         0.0       -25.0  \n",
       "1201        0.0        12.0  \n",
       "1501        0.0        68.0  \n",
       "1801        0.0         4.0  \n",
       "2101        0.0       -81.0  \n",
       "2401        0.0      -208.0  \n",
       "2701        0.0       -69.0  "
      ]
     },
     "execution_count": 67,
     "metadata": {},
     "output_type": "execute_result"
    }
   ],
   "source": [
    "diff_p1_df.iloc[::300, 16:].head(10)"
   ]
  },
  {
   "cell_type": "markdown",
   "metadata": {},
   "source": [
    "## 評価指標が500以上変化した局面を予測する"
   ]
  },
  {
   "cell_type": "code",
   "execution_count": 41,
   "metadata": {},
   "outputs": [],
   "source": [
    "mask1 = (diff_p1_df.apery_eval[diff_p1_df.apery_eval > 500].index - 1).tolist()\n",
    "mask2 = (diff_p2_df.apery_eval[diff_p2_df.apery_eval < -500].index - 1).tolist()"
   ]
  },
  {
   "cell_type": "code",
   "execution_count": 42,
   "metadata": {},
   "outputs": [
    {
     "data": {
      "text/plain": [
       "(12445, 26)"
      ]
     },
     "execution_count": 42,
     "metadata": {},
     "output_type": "execute_result"
    }
   ],
   "source": [
    "diff_p1_df.shape"
   ]
  },
  {
   "cell_type": "code",
   "execution_count": 43,
   "metadata": {
    "scrolled": true
   },
   "outputs": [],
   "source": [
    "variation_p1 = np.zeros(diff_p1_df.shape[0])\n",
    "variation_p1[mask1] = 1"
   ]
  },
  {
   "cell_type": "code",
   "execution_count": 44,
   "metadata": {},
   "outputs": [],
   "source": [
    "variation_p2 = np.zeros(diff_p2_df.shape[0])\n",
    "variation_p2[mask2] = 1"
   ]
  },
  {
   "cell_type": "code",
   "execution_count": 45,
   "metadata": {},
   "outputs": [
    {
     "data": {
      "text/plain": [
       "(12445,)"
      ]
     },
     "execution_count": 45,
     "metadata": {},
     "output_type": "execute_result"
    }
   ],
   "source": [
    "variation_p1.shape"
   ]
  },
  {
   "cell_type": "code",
   "execution_count": 46,
   "metadata": {
    "scrolled": true
   },
   "outputs": [
    {
     "data": {
      "text/plain": [
       "<matplotlib.axes._subplots.AxesSubplot at 0x7f54279e10>"
      ]
     },
     "execution_count": 46,
     "metadata": {},
     "output_type": "execute_result"
    },
    {
     "data": {
      "image/png": "[encoded data removed]",
      "text/plain": [
       "<Figure size 432x288 with 1 Axes>"
      ]
     },
     "metadata": {},
     "output_type": "display_data"
    }
   ],
   "source": [
    "pd.Series(variation_p1).plot()"
   ]
  },
  {
   "cell_type": "code",
   "execution_count": 47,
   "metadata": {},
   "outputs": [
    {
     "data": {
      "text/plain": [
       "<matplotlib.axes._subplots.AxesSubplot at 0x7f54046438>"
      ]
     },
     "execution_count": 47,
     "metadata": {},
     "output_type": "execute_result"
    },
    {
     "data": {
      "image/png": "[encoded data removed]",
      "text/plain": [
       "<Figure size 432x288 with 1 Axes>"
      ]
     },
     "metadata": {},
     "output_type": "display_data"
    }
   ],
   "source": [
    "pd.Series(variation_p2).plot()"
   ]
  },
  {
   "cell_type": "markdown",
   "metadata": {},
   "source": [
    "## 単純にRandomForestで予測してみる(パラメータチューニングなし)"
   ]
  },
  {
   "cell_type": "markdown",
   "metadata": {},
   "source": [
    "0データが多すぎるのでsample関数で0の数を減らして再チャレンジ"
   ]
  },
  {
   "cell_type": "code",
   "execution_count": 56,
   "metadata": {},
   "outputs": [],
   "source": [
    "X = diff_p1_df.iloc[:, :-2]\n",
    "y = pd.Series(variation_p1)"
   ]
  },
  {
   "cell_type": "code",
   "execution_count": 57,
   "metadata": {},
   "outputs": [],
   "source": [
    "y_prep = pd.concat([y[y == 0].sample(frac=0.1), y[y==1]])\n",
    "X_prep = X.reset_index(drop=True).iloc[y_prep.sort_index().index.values]"
   ]
  },
  {
   "cell_type": "code",
   "execution_count": 58,
   "metadata": {},
   "outputs": [],
   "source": [
    "X_train, X_test, y_train, y_test = train_test_split(X_prep, y_prep, test_size=0.3, random_state=98, stratify=y_prep)"
   ]
  },
  {
   "cell_type": "code",
   "execution_count": 59,
   "metadata": {},
   "outputs": [],
   "source": [
    "clf = RandomForestClassifier(random_state=98)"
   ]
  },
  {
   "cell_type": "code",
   "execution_count": 60,
   "metadata": {},
   "outputs": [
    {
     "data": {
      "text/plain": [
       "RandomForestClassifier(bootstrap=True, class_weight=None, criterion='gini',\n",
       "            max_depth=None, max_features='auto', max_leaf_nodes=None,\n",
       "            min_impurity_decrease=0.0, min_impurity_split=None,\n",
       "            min_samples_leaf=1, min_samples_split=2,\n",
       "            min_weight_fraction_leaf=0.0, n_estimators=10, n_jobs=1,\n",
       "            oob_score=False, random_state=98, verbose=0, warm_start=False)"
      ]
     },
     "execution_count": 60,
     "metadata": {},
     "output_type": "execute_result"
    }
   ],
   "source": [
    "clf.fit(X_train, y_train)"
   ]
  },
  {
   "cell_type": "code",
   "execution_count": 61,
   "metadata": {},
   "outputs": [
    {
     "data": {
      "text/plain": [
       "array([0.04737553, 0.04485988, 0.03772621, 0.04825852, 0.03913339,\n",
       "       0.03436685, 0.0374231 , 0.04251627, 0.06100997, 0.04946909,\n",
       "       0.04996772, 0.04503395, 0.06124889, 0.05525082, 0.03705992,\n",
       "       0.049605  , 0.04074585, 0.03483566, 0.04219448, 0.04779913,\n",
       "       0.04055017, 0.01980976, 0.01451928, 0.01924054])"
      ]
     },
     "execution_count": 61,
     "metadata": {},
     "output_type": "execute_result"
    }
   ],
   "source": [
    "clf.feature_importances_"
   ]
  },
  {
   "cell_type": "code",
   "execution_count": 62,
   "metadata": {},
   "outputs": [
    {
     "data": {
      "text/plain": [
       "0.6064610866372981"
      ]
     },
     "execution_count": 62,
     "metadata": {},
     "output_type": "execute_result"
    }
   ],
   "source": [
    "accuracy_score(y_test, clf.predict(X_test))"
   ]
  },
  {
   "cell_type": "code",
   "execution_count": 63,
   "metadata": {},
   "outputs": [
    {
     "data": {
      "text/plain": [
       "array([[235, 104],\n",
       "       [164, 178]])"
      ]
     },
     "execution_count": 63,
     "metadata": {},
     "output_type": "execute_result"
    }
   ],
   "source": [
    "confusion_matrix(y_test, clf.predict(X_test))"
   ]
  },
  {
   "cell_type": "code",
   "execution_count": null,
   "metadata": {},
   "outputs": [],
   "source": []
  }
 ],
 "metadata": {
  "kernelspec": {
   "display_name": "Python 3",
   "language": "python",
   "name": "python3"
  },
  "language_info": {
   "codemirror_mode": {
    "name": "ipython",
    "version": 3
   },
   "file_extension": ".py",
   "mimetype": "text/x-python",
   "name": "python",
   "nbconvert_exporter": "python",
   "pygments_lexer": "ipython3",
   "version": "3.5.2"
  }
 },
 "nbformat": 4,
 "nbformat_minor": 2
}
